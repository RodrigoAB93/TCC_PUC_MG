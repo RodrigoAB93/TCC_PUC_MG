{
 "cells": [
  {
   "cell_type": "code",
   "execution_count": 1,
   "metadata": {
    "id": "evkWN3iiAZQN",
    "scrolled": true
   },
   "outputs": [],
   "source": [
    "# Importando bibliotecas\n",
    "import tensorflow as tf\n",
    "import pandas as pd\n",
    "import math\n",
    "import datetime\n",
    "from scipy import stats\n",
    "from sklearn.model_selection import train_test_split\n",
    "import numpy as np\n",
    "from sklearn.metrics import mean_squared_error, r2_score\n",
    "from tensorflow import keras\n",
    "from tensorflow.python.keras import models\n",
    "from tensorflow.python.keras import layers\n",
    "from tensorflow.python.keras import backend as Kb\n",
    "from tensorflow.python.data import Dataset\n",
    "# Helper Libraries\n",
    "import numpy as np\n",
    "import matplotlib.pyplot as plt\n",
    "import sys\n",
    "import statsmodels as sm\n",
    "from sklearn.metrics import classification_report\n",
    "from sklearn.preprocessing import MinMaxScaler\n",
    "from sklearn.linear_model import LinearRegression\n",
    "import pkg_resources\n",
    "\n",
    "import os\n",
    "from tensorflow.keras.models import Sequential\n",
    "from tensorflow.keras.layers import Dense\n",
    "from sklearn.preprocessing import StandardScaler\n",
    "from sklearn.model_selection import RandomizedSearchCV\n",
    "from sklearn.metrics import confusion_matrix, ConfusionMatrixDisplay\n",
    "from matplotlib import pyplot as plt\n",
    "import csv\n",
    "from sklearn import preprocessing\n",
    "from sklearn.metrics import mean_squared_error, mean_absolute_error,  r2_score"
   ]
  },
  {
   "cell_type": "code",
   "execution_count": 2,
   "metadata": {
    "id": "xsN_Etel2Rl4"
   },
   "outputs": [],
   "source": [
    "# Diretório com os 4 dataset do INMET agrupados em um unico dataset\n",
    "diretorio = './Dados/INMET/Unificados/dataset_INMET-Salvador.csv'\n",
    "diretorio_api = './Dados/API/dados_api_ate_2022.csv'"
   ]
  },
  {
   "cell_type": "code",
   "execution_count": 3,
   "metadata": {},
   "outputs": [
    {
     "name": "stdout",
     "output_type": "stream",
     "text": [
      "numpy: 1.21.5\n",
      "pandas: 1.5.3\n",
      "matplotlib: 3.8.0\n",
      "seaborn: 0.12.2\n",
      "scikit-learn: 1.3.0\n",
      "pkg_resources: Não encontrada\n",
      "tensorflow: 2.10.0\n",
      "sympy: 1.12\n",
      "python-dateutil: 2.8.2\n",
      "stats: Não encontrada\n",
      "sklearn: Não encontrada\n",
      "sys: Não encontrada\n",
      "statsmodels: 0.14.0\n",
      "os: Não encontrada\n",
      "csv: Não encontrada\n",
      "imblearn: 0.0\n"
     ]
    }
   ],
   "source": [
    "# Lista de bibliotecas que você quer obter as versões\n",
    "bibliotecas = ['numpy', 'pandas', 'matplotlib', 'seaborn', 'scikit-learn','pkg_resources',\n",
    "               'tensorflow','sympy','python-dateutil','stats','sklearn','sys','statsmodels','os',\n",
    "               'csv','imblearn']\n",
    "\n",
    "# Dicionário para armazenar as versões\n",
    "versoes = {}\n",
    "\n",
    "for biblioteca in bibliotecas:\n",
    "    try:\n",
    "        versao = pkg_resources.get_distribution(biblioteca).version\n",
    "        versoes[biblioteca] = versao\n",
    "    except pkg_resources.DistributionNotFound:\n",
    "        versoes[biblioteca] = 'Não encontrada'\n",
    "\n",
    "# Exibir as versões\n",
    "for biblioteca, versao in versoes.items():\n",
    "    print(f'{biblioteca}: {versao}')"
   ]
  },
  {
   "cell_type": "code",
   "execution_count": 4,
   "metadata": {
    "id": "tmh9DP60z9ct"
   },
   "outputs": [],
   "source": [
    "# Leitura do dataset\n",
    "dados = pd.read_csv(diretorio) \n",
    "dados_api = pd.read_csv(diretorio_api)\n"
   ]
  },
  {
   "cell_type": "code",
   "execution_count": 5,
   "metadata": {
    "id": "t1w-Mfcq2w-H"
   },
   "outputs": [],
   "source": [
    "# Substituição de  registros NaN por 0\n",
    "dados = dados.fillna(0)  \n",
    "dados =dados.sample(1461)\n",
    "dados_api = dados_api.fillna(0) \n"
   ]
  },
  {
   "cell_type": "code",
   "execution_count": 6,
   "metadata": {},
   "outputs": [],
   "source": [
    "#Transforma o tipo do campo data\n",
    "dados['DATA (YYYY-MM-DD)'] = pd.to_datetime(dados['DATA (YYYY-MM-DD)'])\n",
    "# Substituir 'A401' por 'Salvador' na coluna 'ESTACAO'\n",
    "dados['ESTACAO'] = dados['ESTACAO'].replace({'A401': 'Salvador'})\n"
   ]
  },
  {
   "cell_type": "markdown",
   "metadata": {},
   "source": [
    "## Previsão com dados do INMET"
   ]
  },
  {
   "cell_type": "code",
   "execution_count": 7,
   "metadata": {
    "id": "dpQJv5Gbz_dg"
   },
   "outputs": [],
   "source": [
    "# Selecionar características relevantes\n",
    "features = dados[[ 'TEMPERATURA DO AR - BULBO SECO, HORARIA (°C)', 'UMIDADE RELATIVA DO AR, HORARIA (%)', 'VENTO, VELOCIDADE HORARIA (m/s)']]\n",
    "#Define a variavel a ser prevista\n",
    "targets = dados['PRECIPITAÇÃO TOTAL, HORÁRIO (mm)']"
   ]
  },
  {
   "cell_type": "code",
   "execution_count": 8,
   "metadata": {},
   "outputs": [],
   "source": [
    " # Dividir em conjuntos de treinamento e teste\n",
    "X_train, X_test, y_train, y_test = train_test_split(features, targets, test_size=0.4, random_state=42)\n"
   ]
  },
  {
   "cell_type": "code",
   "execution_count": 9,
   "metadata": {},
   "outputs": [
    {
     "name": "stdout",
     "output_type": "stream",
     "text": [
      "Dados de treino normalizados:\n",
      "      TEMPERATURA DO AR - BULBO SECO, HORARIA (°C)  \\\n",
      "162                                       1.393885   \n",
      "7822                                     -0.221192   \n",
      "4505                                      0.317167   \n",
      "4352                                     -1.163321   \n",
      "3555                                     -0.849278   \n",
      "...                                            ...   \n",
      "7836                                      1.169569   \n",
      "7426                                      0.451757   \n",
      "1429                                      1.977108   \n",
      "4877                                     -1.297911   \n",
      "2403                                     -0.086602   \n",
      "\n",
      "      UMIDADE RELATIVA DO AR, HORARIA (%)  VENTO, VELOCIDADE HORARIA (m/s)  \n",
      "162                             -1.159233                         0.405484  \n",
      "7822                             0.135524                        -0.250479  \n",
      "4505                            -1.258830                        -0.578461  \n",
      "4352                             0.035928                         3.029338  \n",
      "3555                             0.932298                        -1.234424  \n",
      "...                                   ...                              ...  \n",
      "7836                            -0.960040                        -0.742452  \n",
      "7426                            -0.262863                         0.733466  \n",
      "1429                            -1.159233                        -0.086488  \n",
      "4877                             0.235121                        -0.578461  \n",
      "2403                             0.235121                        -1.070434  \n",
      "\n",
      "[875 rows x 3 columns]\n",
      "\n",
      "Dados de teste normalizados:\n",
      "      TEMPERATURA DO AR - BULBO SECO, HORARIA (°C)  \\\n",
      "582                                      -0.390540   \n",
      "1314                                      2.156353   \n",
      "4844                                     -0.343375   \n",
      "3749                                     -0.626363   \n",
      "2965                                      0.882907   \n",
      "...                                            ...   \n",
      "4290                                      0.316931   \n",
      "1512                                      0.128272   \n",
      "1237                                      1.684706   \n",
      "2421                                      0.175437   \n",
      "4931                                     -0.673528   \n",
      "\n",
      "      UMIDADE RELATIVA DO AR, HORARIA (%)  VENTO, VELOCIDADE HORARIA (m/s)  \n",
      "582                              0.734339                        -0.408957  \n",
      "1314                            -1.686767                        -0.231611  \n",
      "4844                            -0.423581                        -0.231611  \n",
      "3749                            -0.107785                         1.009811  \n",
      "2965                             0.102746                         0.300427  \n",
      "...                                   ...                              ...  \n",
      "4290                            -0.423581                         0.477773  \n",
      "1512                             0.102746                        -0.940994  \n",
      "1237                            -0.844643                        -0.586303  \n",
      "2421                            -0.213050                        -0.763648  \n",
      "4931                             0.208012                         0.477773  \n",
      "\n",
      "[584 rows x 3 columns]\n"
     ]
    }
   ],
   "source": [
    "# Normalização dos dados \n",
    "\n",
    "scaler = MinMaxScaler() \n",
    "\n",
    "train_normalized = (X_train - X_train.mean())/X_train.std()\n",
    "test_normalized = (X_test - X_test.mean())/X_test.std()\n",
    "\n",
    "# Removendo a primeira linha a cada 1 hora (resultados)\n",
    "train_result = train_normalized\n",
    "\n",
    "# Removendo a última linha (não há resultados para a última linha)\n",
    "train_normalized = train_normalized\n",
    "\n",
    "# Removendo a primeira linha a cada 1 hora (resultados)\n",
    "test_result = test_normalized\n",
    "\n",
    "# Removendo a última linha (não há resultados para a última linha)\n",
    "test_normalized = test_normalized\n",
    "\n",
    "# Verificar os dados normalizados\n",
    "print(\"Dados de treino normalizados:\")\n",
    "print(train_normalized[:-1])\n",
    "print(\"\\nDados de teste normalizados:\")\n",
    "print(test_normalized[:-1])\n",
    "\n"
   ]
  },
  {
   "cell_type": "code",
   "execution_count": 10,
   "metadata": {},
   "outputs": [
    {
     "name": "stdout",
     "output_type": "stream",
     "text": [
      "      TEMPERATURA DO AR - BULBO SECO, HORARIA (°C)  \\\n",
      "582                                      -0.390540   \n",
      "1314                                      2.156353   \n",
      "4844                                     -0.343375   \n",
      "3749                                     -0.626363   \n",
      "2965                                      0.882907   \n",
      "...                                            ...   \n",
      "1512                                      0.128272   \n",
      "1237                                      1.684706   \n",
      "2421                                      0.175437   \n",
      "4931                                     -0.673528   \n",
      "6826                                     -0.390540   \n",
      "\n",
      "      UMIDADE RELATIVA DO AR, HORARIA (%)  VENTO, VELOCIDADE HORARIA (m/s)  \n",
      "582                              0.734339                        -0.408957  \n",
      "1314                            -1.686767                        -0.231611  \n",
      "4844                            -0.423581                        -0.231611  \n",
      "3749                            -0.107785                         1.009811  \n",
      "2965                             0.102746                         0.300427  \n",
      "...                                   ...                              ...  \n",
      "1512                             0.102746                        -0.940994  \n",
      "1237                            -0.844643                        -0.586303  \n",
      "2421                            -0.213050                        -0.763648  \n",
      "4931                             0.208012                         0.477773  \n",
      "6826                            -0.528847                        -1.118340  \n",
      "\n",
      "[585 rows x 3 columns]\n"
     ]
    }
   ],
   "source": [
    "df_test = pd.DataFrame(test_normalized)\n",
    "print(df_test)"
   ]
  },
  {
   "cell_type": "code",
   "execution_count": 11,
   "metadata": {},
   "outputs": [
    {
     "name": "stdout",
     "output_type": "stream",
     "text": [
      "      TEMPERATURA DO AR - BULBO SECO, HORARIA (°C)  \\\n",
      "162                                       1.393885   \n",
      "7822                                     -0.221192   \n",
      "4505                                      0.317167   \n",
      "4352                                     -1.163321   \n",
      "3555                                     -0.849278   \n",
      "...                                            ...   \n",
      "7426                                      0.451757   \n",
      "1429                                      1.977108   \n",
      "4877                                     -1.297911   \n",
      "2403                                     -0.086602   \n",
      "2228                                      0.765799   \n",
      "\n",
      "      UMIDADE RELATIVA DO AR, HORARIA (%)  VENTO, VELOCIDADE HORARIA (m/s)  \n",
      "162                             -1.159233                         0.405484  \n",
      "7822                             0.135524                        -0.250479  \n",
      "4505                            -1.258830                        -0.578461  \n",
      "4352                             0.035928                         3.029338  \n",
      "3555                             0.932298                        -1.234424  \n",
      "...                                   ...                              ...  \n",
      "7426                            -0.262863                         0.733466  \n",
      "1429                            -1.159233                        -0.086488  \n",
      "4877                             0.235121                        -0.578461  \n",
      "2403                             0.235121                        -1.070434  \n",
      "2228                            -0.462056                        -0.250479  \n",
      "\n",
      "[876 rows x 3 columns]\n"
     ]
    }
   ],
   "source": [
    "df_train = pd.DataFrame(train_normalized)\n",
    "print(df_train)"
   ]
  },
  {
   "cell_type": "code",
   "execution_count": 12,
   "metadata": {
    "colab": {
     "base_uri": "https://localhost:8080/",
     "height": 721
    },
    "id": "Q_OU5J4X3sox",
    "outputId": "42414403-4d75-4d60-a5c2-03864ddaf453"
   },
   "outputs": [
    {
     "data": {
      "text/html": [
       "<style>#sk-container-id-1 {color: black;}#sk-container-id-1 pre{padding: 0;}#sk-container-id-1 div.sk-toggleable {background-color: white;}#sk-container-id-1 label.sk-toggleable__label {cursor: pointer;display: block;width: 100%;margin-bottom: 0;padding: 0.3em;box-sizing: border-box;text-align: center;}#sk-container-id-1 label.sk-toggleable__label-arrow:before {content: \"▸\";float: left;margin-right: 0.25em;color: #696969;}#sk-container-id-1 label.sk-toggleable__label-arrow:hover:before {color: black;}#sk-container-id-1 div.sk-estimator:hover label.sk-toggleable__label-arrow:before {color: black;}#sk-container-id-1 div.sk-toggleable__content {max-height: 0;max-width: 0;overflow: hidden;text-align: left;background-color: #f0f8ff;}#sk-container-id-1 div.sk-toggleable__content pre {margin: 0.2em;color: black;border-radius: 0.25em;background-color: #f0f8ff;}#sk-container-id-1 input.sk-toggleable__control:checked~div.sk-toggleable__content {max-height: 200px;max-width: 100%;overflow: auto;}#sk-container-id-1 input.sk-toggleable__control:checked~label.sk-toggleable__label-arrow:before {content: \"▾\";}#sk-container-id-1 div.sk-estimator input.sk-toggleable__control:checked~label.sk-toggleable__label {background-color: #d4ebff;}#sk-container-id-1 div.sk-label input.sk-toggleable__control:checked~label.sk-toggleable__label {background-color: #d4ebff;}#sk-container-id-1 input.sk-hidden--visually {border: 0;clip: rect(1px 1px 1px 1px);clip: rect(1px, 1px, 1px, 1px);height: 1px;margin: -1px;overflow: hidden;padding: 0;position: absolute;width: 1px;}#sk-container-id-1 div.sk-estimator {font-family: monospace;background-color: #f0f8ff;border: 1px dotted black;border-radius: 0.25em;box-sizing: border-box;margin-bottom: 0.5em;}#sk-container-id-1 div.sk-estimator:hover {background-color: #d4ebff;}#sk-container-id-1 div.sk-parallel-item::after {content: \"\";width: 100%;border-bottom: 1px solid gray;flex-grow: 1;}#sk-container-id-1 div.sk-label:hover label.sk-toggleable__label {background-color: #d4ebff;}#sk-container-id-1 div.sk-serial::before {content: \"\";position: absolute;border-left: 1px solid gray;box-sizing: border-box;top: 0;bottom: 0;left: 50%;z-index: 0;}#sk-container-id-1 div.sk-serial {display: flex;flex-direction: column;align-items: center;background-color: white;padding-right: 0.2em;padding-left: 0.2em;position: relative;}#sk-container-id-1 div.sk-item {position: relative;z-index: 1;}#sk-container-id-1 div.sk-parallel {display: flex;align-items: stretch;justify-content: center;background-color: white;position: relative;}#sk-container-id-1 div.sk-item::before, #sk-container-id-1 div.sk-parallel-item::before {content: \"\";position: absolute;border-left: 1px solid gray;box-sizing: border-box;top: 0;bottom: 0;left: 50%;z-index: -1;}#sk-container-id-1 div.sk-parallel-item {display: flex;flex-direction: column;z-index: 1;position: relative;background-color: white;}#sk-container-id-1 div.sk-parallel-item:first-child::after {align-self: flex-end;width: 50%;}#sk-container-id-1 div.sk-parallel-item:last-child::after {align-self: flex-start;width: 50%;}#sk-container-id-1 div.sk-parallel-item:only-child::after {width: 0;}#sk-container-id-1 div.sk-dashed-wrapped {border: 1px dashed gray;margin: 0 0.4em 0.5em 0.4em;box-sizing: border-box;padding-bottom: 0.4em;background-color: white;}#sk-container-id-1 div.sk-label label {font-family: monospace;font-weight: bold;display: inline-block;line-height: 1.2em;}#sk-container-id-1 div.sk-label-container {text-align: center;}#sk-container-id-1 div.sk-container {/* jupyter's `normalize.less` sets `[hidden] { display: none; }` but bootstrap.min.css set `[hidden] { display: none !important; }` so we also need the `!important` here to be able to override the default hidden behavior on the sphinx rendered scikit-learn.org. See: https://github.com/scikit-learn/scikit-learn/issues/21755 */display: inline-block !important;position: relative;}#sk-container-id-1 div.sk-text-repr-fallback {display: none;}</style><div id=\"sk-container-id-1\" class=\"sk-top-container\"><div class=\"sk-text-repr-fallback\"><pre>LinearRegression()</pre><b>In a Jupyter environment, please rerun this cell to show the HTML representation or trust the notebook. <br />On GitHub, the HTML representation is unable to render, please try loading this page with nbviewer.org.</b></div><div class=\"sk-container\" hidden><div class=\"sk-item\"><div class=\"sk-estimator sk-toggleable\"><input class=\"sk-toggleable__control sk-hidden--visually\" id=\"sk-estimator-id-1\" type=\"checkbox\" checked><label for=\"sk-estimator-id-1\" class=\"sk-toggleable__label sk-toggleable__label-arrow\">LinearRegression</label><div class=\"sk-toggleable__content\"><pre>LinearRegression()</pre></div></div></div></div></div>"
      ],
      "text/plain": [
       "LinearRegression()"
      ]
     },
     "execution_count": 12,
     "metadata": {},
     "output_type": "execute_result"
    }
   ],
   "source": [
    "modelo = LinearRegression()\n",
    "modelo.fit(X_train, y_train)"
   ]
  },
  {
   "cell_type": "code",
   "execution_count": 14,
   "metadata": {},
   "outputs": [
    {
     "name": "stdout",
     "output_type": "stream",
     "text": [
      "Mean squared error: 0.7813943273685928\n",
      "Mean absolute error: 0.3529619602455774\n",
      "R-squared: 0.0941128333543475\n"
     ]
    }
   ],
   "source": [
    "y_pred = modelo.predict(X_test)\n",
    "\n",
    "#\n",
    "mse = mean_squared_error(y_test, y_pred)\n",
    "mae = mean_absolute_error(y_test, y_pred)\n",
    "r2 = r2_score(y_test, y_pred)\n",
    "\n",
    "print('Mean squared error:', mse)\n",
    "print('Mean absolute error:', mae)\n",
    "print('R-squared:', r2)"
   ]
  },
  {
   "cell_type": "code",
   "execution_count": 15,
   "metadata": {},
   "outputs": [],
   "source": [
    "#Função que realiza calculo da metrica MAE\n",
    "def root_mean_squared_error(x, y):\n",
    "        return Kb.sqrt(Kb.mean(Kb.square(x - y), axis=-1))"
   ]
  },
  {
   "cell_type": "code",
   "execution_count": 16,
   "metadata": {},
   "outputs": [
    {
     "name": "stdout",
     "output_type": "stream",
     "text": [
      "Epoch 1/100\n",
      "876/876 [==============================] - 4s 2ms/step - loss: 0.9616 - mean_absolute_error: 0.7572 - mean_squared_error: 0.9616 - root_mean_squared_error: 0.8513\n",
      "Epoch 2/100\n",
      "876/876 [==============================] - 1s 2ms/step - loss: 0.8638 - mean_absolute_error: 0.7275 - mean_squared_error: 0.8638 - root_mean_squared_error: 0.8105\n",
      "Epoch 3/100\n",
      "876/876 [==============================] - 1s 2ms/step - loss: 0.8608 - mean_absolute_error: 0.7255 - mean_squared_error: 0.8608 - root_mean_squared_error: 0.8090\n",
      "Epoch 4/100\n",
      "876/876 [==============================] - 1s 2ms/step - loss: 0.8604 - mean_absolute_error: 0.7258 - mean_squared_error: 0.8604 - root_mean_squared_error: 0.8088\n",
      "Epoch 5/100\n",
      "876/876 [==============================] - 1s 2ms/step - loss: 0.8602 - mean_absolute_error: 0.7258 - mean_squared_error: 0.8602 - root_mean_squared_error: 0.8086\n",
      "Epoch 6/100\n",
      "876/876 [==============================] - 1s 2ms/step - loss: 0.8602 - mean_absolute_error: 0.7261 - mean_squared_error: 0.8602 - root_mean_squared_error: 0.8086\n",
      "Epoch 7/100\n",
      "876/876 [==============================] - 1s 1ms/step - loss: 0.8602 - mean_absolute_error: 0.7259 - mean_squared_error: 0.8602 - root_mean_squared_error: 0.8086\n",
      "Epoch 8/100\n",
      "876/876 [==============================] - 1s 2ms/step - loss: 0.8602 - mean_absolute_error: 0.7257 - mean_squared_error: 0.8602 - root_mean_squared_error: 0.8086\n",
      "Epoch 9/100\n",
      "876/876 [==============================] - 1s 2ms/step - loss: 0.8601 - mean_absolute_error: 0.7261 - mean_squared_error: 0.8601 - root_mean_squared_error: 0.8085\n",
      "Epoch 10/100\n",
      "876/876 [==============================] - 1s 2ms/step - loss: 0.8600 - mean_absolute_error: 0.7260 - mean_squared_error: 0.8600 - root_mean_squared_error: 0.8085\n",
      "Epoch 11/100\n",
      "876/876 [==============================] - 1s 2ms/step - loss: 0.8601 - mean_absolute_error: 0.7259 - mean_squared_error: 0.8601 - root_mean_squared_error: 0.8085\n",
      "Epoch 12/100\n",
      "876/876 [==============================] - 1s 2ms/step - loss: 0.8600 - mean_absolute_error: 0.7261 - mean_squared_error: 0.8600 - root_mean_squared_error: 0.8085\n",
      "Epoch 13/100\n",
      "876/876 [==============================] - 1s 2ms/step - loss: 0.8601 - mean_absolute_error: 0.7260 - mean_squared_error: 0.8601 - root_mean_squared_error: 0.8085\n",
      "Epoch 14/100\n",
      "876/876 [==============================] - 1s 1ms/step - loss: 0.8599 - mean_absolute_error: 0.7260 - mean_squared_error: 0.8599 - root_mean_squared_error: 0.8084\n",
      "Epoch 15/100\n",
      "876/876 [==============================] - 1s 2ms/step - loss: 0.8599 - mean_absolute_error: 0.7259 - mean_squared_error: 0.8599 - root_mean_squared_error: 0.8084\n",
      "Epoch 16/100\n",
      "876/876 [==============================] - 1s 2ms/step - loss: 0.8599 - mean_absolute_error: 0.7259 - mean_squared_error: 0.8599 - root_mean_squared_error: 0.8084\n",
      "Epoch 17/100\n",
      "876/876 [==============================] - 1s 2ms/step - loss: 0.8600 - mean_absolute_error: 0.7257 - mean_squared_error: 0.8600 - root_mean_squared_error: 0.8085\n",
      "Epoch 18/100\n",
      "876/876 [==============================] - 1s 2ms/step - loss: 0.8598 - mean_absolute_error: 0.7259 - mean_squared_error: 0.8598 - root_mean_squared_error: 0.8084\n",
      "Epoch 19/100\n",
      "876/876 [==============================] - 1s 1ms/step - loss: 0.8599 - mean_absolute_error: 0.7258 - mean_squared_error: 0.8599 - root_mean_squared_error: 0.8084\n",
      "Epoch 20/100\n",
      "876/876 [==============================] - 1s 1ms/step - loss: 0.8598 - mean_absolute_error: 0.7261 - mean_squared_error: 0.8598 - root_mean_squared_error: 0.8083\n",
      "Epoch 21/100\n",
      "876/876 [==============================] - 1s 2ms/step - loss: 0.8599 - mean_absolute_error: 0.7260 - mean_squared_error: 0.8599 - root_mean_squared_error: 0.8084\n",
      "Epoch 22/100\n",
      "876/876 [==============================] - 2s 2ms/step - loss: 0.8598 - mean_absolute_error: 0.7259 - mean_squared_error: 0.8598 - root_mean_squared_error: 0.8083\n",
      "Epoch 23/100\n",
      "876/876 [==============================] - 1s 1ms/step - loss: 0.8599 - mean_absolute_error: 0.7259 - mean_squared_error: 0.8599 - root_mean_squared_error: 0.8084\n",
      "Epoch 24/100\n",
      "876/876 [==============================] - 1s 2ms/step - loss: 0.8598 - mean_absolute_error: 0.7260 - mean_squared_error: 0.8598 - root_mean_squared_error: 0.8083\n",
      "Epoch 25/100\n",
      "876/876 [==============================] - 1s 1ms/step - loss: 0.8598 - mean_absolute_error: 0.7260 - mean_squared_error: 0.8598 - root_mean_squared_error: 0.8083\n",
      "Epoch 26/100\n",
      "876/876 [==============================] - 1s 1ms/step - loss: 0.8598 - mean_absolute_error: 0.7259 - mean_squared_error: 0.8598 - root_mean_squared_error: 0.8083\n",
      "Epoch 27/100\n",
      "876/876 [==============================] - 1s 2ms/step - loss: 0.8598 - mean_absolute_error: 0.7259 - mean_squared_error: 0.8598 - root_mean_squared_error: 0.8084\n",
      "Epoch 28/100\n",
      "876/876 [==============================] - 1s 2ms/step - loss: 0.8598 - mean_absolute_error: 0.7261 - mean_squared_error: 0.8598 - root_mean_squared_error: 0.8084\n",
      "Epoch 29/100\n",
      "876/876 [==============================] - 1s 2ms/step - loss: 0.8598 - mean_absolute_error: 0.7259 - mean_squared_error: 0.8598 - root_mean_squared_error: 0.8083\n",
      "Epoch 30/100\n",
      "876/876 [==============================] - 2s 2ms/step - loss: 0.8598 - mean_absolute_error: 0.7260 - mean_squared_error: 0.8598 - root_mean_squared_error: 0.8083\n",
      "Epoch 31/100\n",
      "876/876 [==============================] - 1s 2ms/step - loss: 0.8601 - mean_absolute_error: 0.7262 - mean_squared_error: 0.8601 - root_mean_squared_error: 0.8085\n",
      "Epoch 32/100\n",
      "876/876 [==============================] - 1s 2ms/step - loss: 0.8597 - mean_absolute_error: 0.7259 - mean_squared_error: 0.8597 - root_mean_squared_error: 0.8083\n",
      "Epoch 33/100\n",
      "876/876 [==============================] - 1s 1ms/step - loss: 0.8597 - mean_absolute_error: 0.7259 - mean_squared_error: 0.8597 - root_mean_squared_error: 0.8083\n",
      "Epoch 34/100\n",
      "876/876 [==============================] - 1s 1ms/step - loss: 0.8598 - mean_absolute_error: 0.7261 - mean_squared_error: 0.8598 - root_mean_squared_error: 0.8083\n",
      "Epoch 35/100\n",
      "876/876 [==============================] - 1s 2ms/step - loss: 0.8597 - mean_absolute_error: 0.7259 - mean_squared_error: 0.8597 - root_mean_squared_error: 0.8083\n",
      "Epoch 36/100\n",
      "876/876 [==============================] - 1s 1ms/step - loss: 0.8598 - mean_absolute_error: 0.7261 - mean_squared_error: 0.8598 - root_mean_squared_error: 0.8083\n",
      "Epoch 37/100\n",
      "876/876 [==============================] - 1s 2ms/step - loss: 0.8598 - mean_absolute_error: 0.7259 - mean_squared_error: 0.8598 - root_mean_squared_error: 0.8083\n",
      "Epoch 38/100\n",
      "876/876 [==============================] - 1s 2ms/step - loss: 0.8598 - mean_absolute_error: 0.7259 - mean_squared_error: 0.8598 - root_mean_squared_error: 0.8083\n",
      "Epoch 39/100\n",
      "876/876 [==============================] - 1s 2ms/step - loss: 0.8598 - mean_absolute_error: 0.7260 - mean_squared_error: 0.8598 - root_mean_squared_error: 0.8083\n",
      "Epoch 40/100\n",
      "876/876 [==============================] - 1s 1ms/step - loss: 0.8597 - mean_absolute_error: 0.7261 - mean_squared_error: 0.8597 - root_mean_squared_error: 0.8083\n",
      "Epoch 41/100\n",
      "876/876 [==============================] - 1s 1ms/step - loss: 0.8599 - mean_absolute_error: 0.7258 - mean_squared_error: 0.8599 - root_mean_squared_error: 0.8084\n",
      "Epoch 42/100\n",
      "876/876 [==============================] - 1s 1ms/step - loss: 0.8597 - mean_absolute_error: 0.7260 - mean_squared_error: 0.8597 - root_mean_squared_error: 0.8083\n",
      "Epoch 43/100\n",
      "876/876 [==============================] - 1s 1ms/step - loss: 0.8597 - mean_absolute_error: 0.7260 - mean_squared_error: 0.8597 - root_mean_squared_error: 0.8083\n",
      "Epoch 44/100\n",
      "876/876 [==============================] - 1s 1ms/step - loss: 0.8597 - mean_absolute_error: 0.7259 - mean_squared_error: 0.8597 - root_mean_squared_error: 0.8083\n",
      "Epoch 45/100\n",
      "876/876 [==============================] - 1s 1ms/step - loss: 0.8597 - mean_absolute_error: 0.7260 - mean_squared_error: 0.8597 - root_mean_squared_error: 0.8083\n",
      "Epoch 46/100\n",
      "876/876 [==============================] - 1s 1ms/step - loss: 0.8598 - mean_absolute_error: 0.7259 - mean_squared_error: 0.8598 - root_mean_squared_error: 0.8083\n",
      "Epoch 47/100\n",
      "876/876 [==============================] - 1s 2ms/step - loss: 0.8597 - mean_absolute_error: 0.7259 - mean_squared_error: 0.8597 - root_mean_squared_error: 0.8083\n",
      "Epoch 48/100\n",
      "876/876 [==============================] - 1s 2ms/step - loss: 0.8598 - mean_absolute_error: 0.7258 - mean_squared_error: 0.8598 - root_mean_squared_error: 0.8083\n",
      "Epoch 49/100\n",
      "876/876 [==============================] - 1s 2ms/step - loss: 0.8598 - mean_absolute_error: 0.7260 - mean_squared_error: 0.8598 - root_mean_squared_error: 0.8083\n",
      "Epoch 50/100\n",
      "876/876 [==============================] - 1s 1ms/step - loss: 0.8597 - mean_absolute_error: 0.7259 - mean_squared_error: 0.8597 - root_mean_squared_error: 0.8083\n",
      "Epoch 51/100\n",
      "876/876 [==============================] - 1s 2ms/step - loss: 0.8598 - mean_absolute_error: 0.7260 - mean_squared_error: 0.8598 - root_mean_squared_error: 0.8083\n",
      "Epoch 52/100\n",
      "876/876 [==============================] - 1s 1ms/step - loss: 0.8597 - mean_absolute_error: 0.7260 - mean_squared_error: 0.8597 - root_mean_squared_error: 0.8083\n",
      "Epoch 53/100\n",
      "876/876 [==============================] - 1s 1ms/step - loss: 0.8597 - mean_absolute_error: 0.7260 - mean_squared_error: 0.8597 - root_mean_squared_error: 0.8083\n",
      "Epoch 54/100\n",
      "876/876 [==============================] - 1s 1ms/step - loss: 0.8598 - mean_absolute_error: 0.7259 - mean_squared_error: 0.8598 - root_mean_squared_error: 0.8084\n",
      "Epoch 55/100\n",
      "876/876 [==============================] - 1s 1ms/step - loss: 0.8597 - mean_absolute_error: 0.7259 - mean_squared_error: 0.8597 - root_mean_squared_error: 0.8083\n",
      "Epoch 56/100\n",
      "876/876 [==============================] - 1s 2ms/step - loss: 0.8597 - mean_absolute_error: 0.7258 - mean_squared_error: 0.8597 - root_mean_squared_error: 0.8083\n",
      "Epoch 57/100\n",
      "876/876 [==============================] - 1s 1ms/step - loss: 0.8597 - mean_absolute_error: 0.7259 - mean_squared_error: 0.8597 - root_mean_squared_error: 0.8083\n",
      "Epoch 58/100\n",
      "876/876 [==============================] - 1s 2ms/step - loss: 0.8597 - mean_absolute_error: 0.7261 - mean_squared_error: 0.8597 - root_mean_squared_error: 0.8083\n",
      "Epoch 59/100\n",
      "876/876 [==============================] - 1s 2ms/step - loss: 0.8598 - mean_absolute_error: 0.7260 - mean_squared_error: 0.8598 - root_mean_squared_error: 0.8083\n",
      "Epoch 60/100\n",
      "876/876 [==============================] - 1s 2ms/step - loss: 0.8597 - mean_absolute_error: 0.7259 - mean_squared_error: 0.8597 - root_mean_squared_error: 0.8083\n",
      "Epoch 61/100\n",
      "876/876 [==============================] - 1s 2ms/step - loss: 0.8598 - mean_absolute_error: 0.7258 - mean_squared_error: 0.8598 - root_mean_squared_error: 0.8083\n",
      "Epoch 62/100\n",
      "876/876 [==============================] - 1s 1ms/step - loss: 0.8597 - mean_absolute_error: 0.7260 - mean_squared_error: 0.8597 - root_mean_squared_error: 0.8083\n",
      "Epoch 63/100\n",
      "876/876 [==============================] - 1s 1ms/step - loss: 0.8597 - mean_absolute_error: 0.7259 - mean_squared_error: 0.8597 - root_mean_squared_error: 0.8083\n",
      "Epoch 64/100\n",
      "876/876 [==============================] - 1s 2ms/step - loss: 0.8597 - mean_absolute_error: 0.7260 - mean_squared_error: 0.8597 - root_mean_squared_error: 0.8083\n",
      "Epoch 65/100\n",
      "876/876 [==============================] - 1s 2ms/step - loss: 0.8597 - mean_absolute_error: 0.7259 - mean_squared_error: 0.8597 - root_mean_squared_error: 0.8083\n",
      "Epoch 66/100\n",
      "876/876 [==============================] - 1s 2ms/step - loss: 0.8597 - mean_absolute_error: 0.7260 - mean_squared_error: 0.8597 - root_mean_squared_error: 0.8083\n",
      "Epoch 67/100\n",
      "876/876 [==============================] - 1s 2ms/step - loss: 0.8597 - mean_absolute_error: 0.7260 - mean_squared_error: 0.8597 - root_mean_squared_error: 0.8083\n",
      "Epoch 68/100\n",
      "876/876 [==============================] - 1s 1ms/step - loss: 0.8598 - mean_absolute_error: 0.7260 - mean_squared_error: 0.8598 - root_mean_squared_error: 0.8083\n",
      "Epoch 69/100\n",
      "876/876 [==============================] - 1s 1ms/step - loss: 0.8597 - mean_absolute_error: 0.7260 - mean_squared_error: 0.8597 - root_mean_squared_error: 0.8083\n",
      "Epoch 70/100\n",
      "876/876 [==============================] - 1s 2ms/step - loss: 0.8597 - mean_absolute_error: 0.7259 - mean_squared_error: 0.8597 - root_mean_squared_error: 0.8083\n",
      "Epoch 71/100\n",
      "876/876 [==============================] - 1s 1ms/step - loss: 0.8598 - mean_absolute_error: 0.7261 - mean_squared_error: 0.8598 - root_mean_squared_error: 0.8083\n",
      "Epoch 72/100\n",
      "876/876 [==============================] - 1s 2ms/step - loss: 0.8597 - mean_absolute_error: 0.7259 - mean_squared_error: 0.8597 - root_mean_squared_error: 0.8083\n",
      "Epoch 73/100\n",
      "876/876 [==============================] - 1s 1ms/step - loss: 0.8597 - mean_absolute_error: 0.7260 - mean_squared_error: 0.8597 - root_mean_squared_error: 0.8083\n",
      "Epoch 74/100\n",
      "876/876 [==============================] - 1s 1ms/step - loss: 0.8597 - mean_absolute_error: 0.7259 - mean_squared_error: 0.8597 - root_mean_squared_error: 0.8083\n",
      "Epoch 75/100\n",
      "876/876 [==============================] - 1s 2ms/step - loss: 0.8598 - mean_absolute_error: 0.7260 - mean_squared_error: 0.8598 - root_mean_squared_error: 0.8083\n",
      "Epoch 76/100\n",
      "876/876 [==============================] - 1s 2ms/step - loss: 0.8597 - mean_absolute_error: 0.7260 - mean_squared_error: 0.8597 - root_mean_squared_error: 0.8083\n",
      "Epoch 77/100\n",
      "876/876 [==============================] - 1s 1ms/step - loss: 0.8597 - mean_absolute_error: 0.7259 - mean_squared_error: 0.8597 - root_mean_squared_error: 0.8083\n",
      "Epoch 78/100\n",
      "876/876 [==============================] - 1s 1ms/step - loss: 0.8597 - mean_absolute_error: 0.7260 - mean_squared_error: 0.8597 - root_mean_squared_error: 0.8083\n",
      "Epoch 79/100\n",
      "876/876 [==============================] - 1s 1ms/step - loss: 0.8598 - mean_absolute_error: 0.7259 - mean_squared_error: 0.8598 - root_mean_squared_error: 0.8083\n",
      "Epoch 80/100\n",
      "876/876 [==============================] - 1s 1ms/step - loss: 0.8597 - mean_absolute_error: 0.7259 - mean_squared_error: 0.8597 - root_mean_squared_error: 0.8083\n",
      "Epoch 81/100\n",
      "876/876 [==============================] - 1s 1ms/step - loss: 0.8597 - mean_absolute_error: 0.7259 - mean_squared_error: 0.8597 - root_mean_squared_error: 0.8083\n",
      "Epoch 82/100\n",
      "876/876 [==============================] - 1s 1ms/step - loss: 0.8597 - mean_absolute_error: 0.7260 - mean_squared_error: 0.8597 - root_mean_squared_error: 0.8083\n",
      "Epoch 83/100\n",
      "876/876 [==============================] - 1s 1ms/step - loss: 0.8597 - mean_absolute_error: 0.7259 - mean_squared_error: 0.8597 - root_mean_squared_error: 0.8083\n",
      "Epoch 84/100\n",
      "876/876 [==============================] - 1s 1ms/step - loss: 0.8597 - mean_absolute_error: 0.7259 - mean_squared_error: 0.8597 - root_mean_squared_error: 0.8083\n",
      "Epoch 85/100\n",
      "876/876 [==============================] - 1s 1ms/step - loss: 0.8598 - mean_absolute_error: 0.7262 - mean_squared_error: 0.8598 - root_mean_squared_error: 0.8084\n",
      "Epoch 86/100\n",
      "876/876 [==============================] - 1s 1ms/step - loss: 0.8597 - mean_absolute_error: 0.7259 - mean_squared_error: 0.8597 - root_mean_squared_error: 0.8083\n",
      "Epoch 87/100\n",
      "876/876 [==============================] - 1s 1ms/step - loss: 0.8599 - mean_absolute_error: 0.7261 - mean_squared_error: 0.8599 - root_mean_squared_error: 0.8084\n",
      "Epoch 88/100\n",
      "876/876 [==============================] - 1s 1ms/step - loss: 0.8597 - mean_absolute_error: 0.7259 - mean_squared_error: 0.8597 - root_mean_squared_error: 0.8083\n",
      "Epoch 89/100\n",
      "876/876 [==============================] - 1s 2ms/step - loss: 0.8597 - mean_absolute_error: 0.7260 - mean_squared_error: 0.8597 - root_mean_squared_error: 0.8083\n",
      "Epoch 90/100\n",
      "876/876 [==============================] - 1s 1ms/step - loss: 0.8597 - mean_absolute_error: 0.7259 - mean_squared_error: 0.8597 - root_mean_squared_error: 0.8083\n",
      "Epoch 91/100\n",
      "876/876 [==============================] - 1s 1ms/step - loss: 0.8597 - mean_absolute_error: 0.7259 - mean_squared_error: 0.8597 - root_mean_squared_error: 0.8083\n",
      "Epoch 92/100\n",
      "876/876 [==============================] - 1s 1ms/step - loss: 0.8597 - mean_absolute_error: 0.7260 - mean_squared_error: 0.8597 - root_mean_squared_error: 0.8083\n",
      "Epoch 93/100\n"
     ]
    },
    {
     "name": "stdout",
     "output_type": "stream",
     "text": [
      "876/876 [==============================] - 1s 1ms/step - loss: 0.8598 - mean_absolute_error: 0.7261 - mean_squared_error: 0.8598 - root_mean_squared_error: 0.8083\n",
      "Epoch 94/100\n",
      "876/876 [==============================] - 1s 1ms/step - loss: 0.8597 - mean_absolute_error: 0.7259 - mean_squared_error: 0.8597 - root_mean_squared_error: 0.8083\n",
      "Epoch 95/100\n",
      "876/876 [==============================] - 1s 2ms/step - loss: 0.8597 - mean_absolute_error: 0.7259 - mean_squared_error: 0.8597 - root_mean_squared_error: 0.8083\n",
      "Epoch 96/100\n",
      "876/876 [==============================] - 1s 2ms/step - loss: 0.8597 - mean_absolute_error: 0.7259 - mean_squared_error: 0.8597 - root_mean_squared_error: 0.8083\n",
      "Epoch 97/100\n",
      "876/876 [==============================] - 1s 2ms/step - loss: 0.8597 - mean_absolute_error: 0.7261 - mean_squared_error: 0.8597 - root_mean_squared_error: 0.8083\n",
      "Epoch 98/100\n",
      "876/876 [==============================] - 1s 2ms/step - loss: 0.8597 - mean_absolute_error: 0.7260 - mean_squared_error: 0.8597 - root_mean_squared_error: 0.8083\n",
      "Epoch 99/100\n",
      "876/876 [==============================] - 1s 2ms/step - loss: 0.8597 - mean_absolute_error: 0.7259 - mean_squared_error: 0.8597 - root_mean_squared_error: 0.8083\n",
      "Epoch 100/100\n",
      "876/876 [==============================] - 2s 2ms/step - loss: 0.8597 - mean_absolute_error: 0.7259 - mean_squared_error: 0.8597 - root_mean_squared_error: 0.8083\n"
     ]
    },
    {
     "data": {
      "text/plain": [
       "<keras.callbacks.History at 0x16e5c9f74c0>"
      ]
     },
     "execution_count": 16,
     "metadata": {},
     "output_type": "execute_result"
    }
   ],
   "source": [
    "#Treinando Epoch\n",
    "regularizer=tf.compat.v1.keras.regularizers.l2(0.001)\n",
    "model = keras.Sequential([\n",
    "layers.Dense(20, activation='relu', input_shape = (8,), kernel_regularizer=regularizer),\n",
    "layers.Dense(12, activation='relu', kernel_regularizer=regularizer),\n",
    "layers.Dense(4, activation='relu', kernel_regularizer=regularizer),\n",
    "layers.Dense(1)\n",
    "])\n",
    "\n",
    "model.compile(loss='mean_squared_error', optimizer='adam',#Utilizando metrica MAE e MSE\n",
    "              metrics=['mean_absolute_error', 'mean_squared_error', root_mean_squared_error])\n",
    "\n",
    "model.fit(train_normalized, train_result,\n",
    "  epochs=100, batch_size=1,validation_split = 0.0, verbose=1)\n"
   ]
  },
  {
   "cell_type": "code",
   "execution_count": 17,
   "metadata": {},
   "outputs": [
    {
     "name": "stdout",
     "output_type": "stream",
     "text": [
      "28/28 [==============================] - 1s 3ms/step - loss: 224.6268 - mean_absolute_error: 11.2177 - mean_squared_error: 224.6268 - root_mean_squared_error: 11.2177\n",
      "19/19 [==============================] - 0s 3ms/step\n",
      "Mean Squared Error: 25.688933529551132\n",
      "Mean Absolute Error: 4.943961664998634\n",
      "R-squared: -28.781730419775933\n"
     ]
    },
    {
     "data": {
      "image/png": "[encoded data removed]",
      "text/plain": [
       "<Figure size 640x480 with 1 Axes>"
      ]
     },
     "metadata": {},
     "output_type": "display_data"
    },
    {
     "name": "stdout",
     "output_type": "stream",
     "text": [
      "19/19 [==============================] - 0s 2ms/step\n",
      "         Pred  Real\n",
      "0   -5.063280   0.0\n",
      "1   -4.163875   0.0\n",
      "2   -4.532496   0.0\n",
      "3   -4.644616   0.0\n",
      "4   -4.875716   0.0\n",
      "..        ...   ...\n",
      "580 -4.820521   0.0\n",
      "581 -4.514249   0.0\n",
      "582 -4.677731   0.0\n",
      "583 -4.790042   0.0\n",
      "584 -4.486557   0.0\n",
      "\n",
      "[585 rows x 2 columns]\n"
     ]
    }
   ],
   "source": [
    "# Treinando o modelo\n",
    "model.fit(X_train, y_train)\n",
    "\n",
    "# Fazendo previsões no conjunto de teste\n",
    "y_pred = model.predict(X_test)\n",
    "\n",
    "# Avaliando o desempenho do modelo\n",
    "mse = mean_squared_error(y_test, y_pred)\n",
    "mae = mean_absolute_error(y_test, y_pred)\n",
    "r2 = r2_score(y_test, y_pred)\n",
    "\n",
    "print('Mean Squared Error:', mse)\n",
    "print('Mean Absolute Error:', mae)\n",
    "print('R-squared:', r2)\n",
    "\n",
    "# Visualizando as previsões em relação aos valores reais\n",
    "plt.plot(y_test.values, label='Actual Precipitation', color='blue')\n",
    "plt.plot(y_pred, label='Predicted Precipitation', color='red')\n",
    "plt.xlabel('Sample Index')\n",
    "plt.ylabel('Precipitation')\n",
    "plt.title('Actual vs Predicted Precipitation')\n",
    "plt.legend()\n",
    "plt.show()\n",
    "\n",
    "# Realizando previsões utilizando sklearn\n",
    "predictions = model.predict(X_test)\n",
    "df1 = pd.DataFrame({\"Pred\": predictions.flatten(), \"Real\": y_test.values.flatten()})\n",
    "\n",
    "# Visualizando as previsões em um DataFrame\n",
    "print(df1)\n"
   ]
  },
  {
   "cell_type": "code",
   "execution_count": 1,
   "metadata": {},
   "outputs": [
    {
     "ename": "NameError",
     "evalue": "name 'X_test' is not defined",
     "output_type": "error",
     "traceback": [
      "\u001b[1;31m---------------------------------------------------------------------------\u001b[0m",
      "\u001b[1;31mNameError\u001b[0m                                 Traceback (most recent call last)",
      "Input \u001b[1;32mIn [1]\u001b[0m, in \u001b[0;36m<cell line: 1>\u001b[1;34m()\u001b[0m\n\u001b[1;32m----> 1\u001b[0m \u001b[43mX_test\u001b[49m\n",
      "\u001b[1;31mNameError\u001b[0m: name 'X_test' is not defined"
     ]
    }
   ],
   "source": []
  },
  {
   "cell_type": "code",
   "execution_count": 18,
   "metadata": {},
   "outputs": [
    {
     "name": "stdout",
     "output_type": "stream",
     "text": [
      "19/19 [==============================] - 0s 824us/step\n",
      "         Pred  Real\n",
      "0   -5.063280   0.0\n",
      "1   -4.163875   0.0\n",
      "2   -4.532496   0.0\n",
      "3   -4.644616   0.0\n",
      "4   -4.875716   0.0\n",
      "..        ...   ...\n",
      "580 -4.820521   0.0\n",
      "581 -4.514249   0.0\n",
      "582 -4.677731   0.0\n",
      "583 -4.790042   0.0\n",
      "584 -4.486557   0.0\n",
      "\n",
      "[585 rows x 2 columns]\n"
     ]
    }
   ],
   "source": [
    "# Realizando previsões utilizando sklearn\n",
    "predictions = model.predict(X_test)\n",
    "df1 = pd.DataFrame(df1)\n",
    "\n",
    "# Visualizando as previsões em um DataFrame\n",
    "print(df1)"
   ]
  },
  {
   "cell_type": "markdown",
   "metadata": {},
   "source": [
    "## Previsão com dados do INMET e Open Meteo\n"
   ]
  },
  {
   "cell_type": "code",
   "execution_count": 19,
   "metadata": {},
   "outputs": [
    {
     "data": {
      "text/html": [
       "<div>\n",
       "<style scoped>\n",
       "    .dataframe tbody tr th:only-of-type {\n",
       "        vertical-align: middle;\n",
       "    }\n",
       "\n",
       "    .dataframe tbody tr th {\n",
       "        vertical-align: top;\n",
       "    }\n",
       "\n",
       "    .dataframe thead th {\n",
       "        text-align: right;\n",
       "    }\n",
       "</style>\n",
       "<table border=\"1\" class=\"dataframe\">\n",
       "  <thead>\n",
       "    <tr style=\"text-align: right;\">\n",
       "      <th></th>\n",
       "      <th>temperature_2m_mean</th>\n",
       "      <th>relative_humidity_2m_max</th>\n",
       "      <th>wind_speed_10m_mean</th>\n",
       "    </tr>\n",
       "  </thead>\n",
       "  <tbody>\n",
       "    <tr>\n",
       "      <th>0</th>\n",
       "      <td>26.815092</td>\n",
       "      <td>26.815092</td>\n",
       "      <td>91.317510</td>\n",
       "    </tr>\n",
       "    <tr>\n",
       "      <th>1</th>\n",
       "      <td>28.864230</td>\n",
       "      <td>28.864230</td>\n",
       "      <td>92.345540</td>\n",
       "    </tr>\n",
       "    <tr>\n",
       "      <th>2</th>\n",
       "      <td>27.511778</td>\n",
       "      <td>27.511778</td>\n",
       "      <td>91.363510</td>\n",
       "    </tr>\n",
       "    <tr>\n",
       "      <th>3</th>\n",
       "      <td>28.759325</td>\n",
       "      <td>28.759325</td>\n",
       "      <td>92.381480</td>\n",
       "    </tr>\n",
       "    <tr>\n",
       "      <th>4</th>\n",
       "      <td>29.206875</td>\n",
       "      <td>29.206875</td>\n",
       "      <td>92.399445</td>\n",
       "    </tr>\n",
       "    <tr>\n",
       "      <th>...</th>\n",
       "      <td>...</td>\n",
       "      <td>...</td>\n",
       "      <td>...</td>\n",
       "    </tr>\n",
       "    <tr>\n",
       "      <th>1456</th>\n",
       "      <td>27.895555</td>\n",
       "      <td>27.895555</td>\n",
       "      <td>79.026480</td>\n",
       "    </tr>\n",
       "    <tr>\n",
       "      <th>1457</th>\n",
       "      <td>28.699463</td>\n",
       "      <td>28.699463</td>\n",
       "      <td>74.084690</td>\n",
       "    </tr>\n",
       "    <tr>\n",
       "      <th>1458</th>\n",
       "      <td>26.503368</td>\n",
       "      <td>26.503368</td>\n",
       "      <td>75.142900</td>\n",
       "    </tr>\n",
       "    <tr>\n",
       "      <th>1459</th>\n",
       "      <td>28.057278</td>\n",
       "      <td>28.057278</td>\n",
       "      <td>81.201096</td>\n",
       "    </tr>\n",
       "    <tr>\n",
       "      <th>1460</th>\n",
       "      <td>27.561186</td>\n",
       "      <td>27.561186</td>\n",
       "      <td>78.259310</td>\n",
       "    </tr>\n",
       "  </tbody>\n",
       "</table>\n",
       "<p>1461 rows × 3 columns</p>\n",
       "</div>"
      ],
      "text/plain": [
       "      temperature_2m_mean  relative_humidity_2m_max  wind_speed_10m_mean\n",
       "0               26.815092                 26.815092            91.317510\n",
       "1               28.864230                 28.864230            92.345540\n",
       "2               27.511778                 27.511778            91.363510\n",
       "3               28.759325                 28.759325            92.381480\n",
       "4               29.206875                 29.206875            92.399445\n",
       "...                   ...                       ...                  ...\n",
       "1456            27.895555                 27.895555            79.026480\n",
       "1457            28.699463                 28.699463            74.084690\n",
       "1458            26.503368                 26.503368            75.142900\n",
       "1459            28.057278                 28.057278            81.201096\n",
       "1460            27.561186                 27.561186            78.259310\n",
       "\n",
       "[1461 rows x 3 columns]"
      ]
     },
     "execution_count": 19,
     "metadata": {},
     "output_type": "execute_result"
    }
   ],
   "source": [
    "# Selecionar características relevantes\n",
    "features = dados_api[[ 'temperature_2m_mean', 'relative_humidity_2m_max', 'wind_speed_10m_mean']]\n",
    "#Define a variavel a ser prevista\n",
    "targets = dados['PRECIPITAÇÃO TOTAL, HORÁRIO (mm)']\n",
    "features"
   ]
  },
  {
   "cell_type": "code",
   "execution_count": 21,
   "metadata": {},
   "outputs": [],
   "source": [
    " # Dividir em conjuntos de treinamento e teste\n",
    "X_train, X_test, y_train, y_test = train_test_split(features, targets, test_size=0.4, random_state=42) \n"
   ]
  },
  {
   "cell_type": "code",
   "execution_count": 22,
   "metadata": {},
   "outputs": [
    {
     "name": "stdout",
     "output_type": "stream",
     "text": [
      "Dados de treino normalizados:\n",
      "      temperature_2m_mean  relative_humidity_2m_max  wind_speed_10m_mean\n",
      "442              1.450306                  1.450306            -0.458176\n",
      "319              1.090674                  1.090674             0.449086\n",
      "767              1.060032                  1.060032             0.908982\n",
      "756              0.967334                  0.967334             0.881916\n",
      "424              1.084383                  1.084383            -0.816760\n",
      "...                   ...                       ...                  ...\n",
      "1095             1.185906                  1.185906            -0.694750\n",
      "1130             0.714767                  0.714767             0.903447\n",
      "1294            -1.040778                 -1.040778             0.380859\n",
      "860              0.002324                  0.002324            -1.972843\n",
      "1459             0.218989                  0.218989            -0.704716\n",
      "\n",
      "[875 rows x 3 columns]\n",
      "\n",
      "Dados de teste normalizados:\n",
      "      temperature_2m_mean  relative_humidity_2m_max  wind_speed_10m_mean\n",
      "892             -0.408365                 -0.408365             0.758004\n",
      "1105             0.037470                  0.037470            -0.543967\n",
      "413              1.596699                  1.596699            -5.041975\n",
      "522             -0.365846                 -0.365846             0.821994\n",
      "1036             1.211127                  1.211127             0.339516\n",
      "...                   ...                       ...                  ...\n",
      "1330            -0.799011                 -0.799011             0.167704\n",
      "1103             0.993859                  0.993859             0.147137\n",
      "752             -0.002711                 -0.002711             0.878884\n",
      "1353             0.873690                  0.873690             0.160725\n",
      "376              2.169409                  2.169409             0.851998\n",
      "\n",
      "[584 rows x 3 columns]\n"
     ]
    }
   ],
   "source": [
    "# Normalização dos dados \n",
    "\n",
    "scaler = MinMaxScaler() \n",
    "\n",
    "train_normalized = (X_train - X_train.mean())/X_train.std()\n",
    "test_normalized = (X_test - X_test.mean())/X_test.std()\n",
    "\n",
    "# Removendo a primeira linha a cada 1 hora (resultados)\n",
    "train_result = train_normalized\n",
    "\n",
    "# Removendo a última linha (não há resultados para a última linha)\n",
    "train_normalized = train_normalized\n",
    "\n",
    "# Removendo a primeira linha a cada 1 hora (resultados)\n",
    "test_result = test_normalized\n",
    "\n",
    "# Removendo a última linha (não há resultados para a última linha)\n",
    "test_normalized = test_normalized\n",
    "\n",
    "# Verificar os dados normalizados\n",
    "print(\"Dados de treino normalizados:\")\n",
    "print(train_normalized[:-1])\n",
    "print(\"\\nDados de teste normalizados:\")\n",
    "print(test_normalized[:-1])\n",
    "\n"
   ]
  },
  {
   "cell_type": "code",
   "execution_count": 23,
   "metadata": {},
   "outputs": [
    {
     "name": "stdout",
     "output_type": "stream",
     "text": [
      "      temperature_2m_mean  relative_humidity_2m_max  wind_speed_10m_mean\n",
      "892             -0.408365                 -0.408365             0.758004\n",
      "1105             0.037470                  0.037470            -0.543967\n",
      "413              1.596699                  1.596699            -5.041975\n",
      "522             -0.365846                 -0.365846             0.821994\n",
      "1036             1.211127                  1.211127             0.339516\n",
      "...                   ...                       ...                  ...\n",
      "1103             0.993859                  0.993859             0.147137\n",
      "752             -0.002711                 -0.002711             0.878884\n",
      "1353             0.873690                  0.873690             0.160725\n",
      "376              2.169409                  2.169409             0.851998\n",
      "314             -0.052472                 -0.052472             0.269176\n",
      "\n",
      "[585 rows x 3 columns]\n"
     ]
    }
   ],
   "source": [
    "df_test = pd.DataFrame(test_normalized)\n",
    "print(df_test)"
   ]
  },
  {
   "cell_type": "code",
   "execution_count": 24,
   "metadata": {},
   "outputs": [
    {
     "name": "stdout",
     "output_type": "stream",
     "text": [
      "      temperature_2m_mean  relative_humidity_2m_max  wind_speed_10m_mean\n",
      "442              1.450306                  1.450306            -0.458176\n",
      "319              1.090674                  1.090674             0.449086\n",
      "767              1.060032                  1.060032             0.908982\n",
      "756              0.967334                  0.967334             0.881916\n",
      "424              1.084383                  1.084383            -0.816760\n",
      "...                   ...                       ...                  ...\n",
      "1130             0.714767                  0.714767             0.903447\n",
      "1294            -1.040778                 -1.040778             0.380859\n",
      "860              0.002324                  0.002324            -1.972843\n",
      "1459             0.218989                  0.218989            -0.704716\n",
      "1126             0.425374                  0.425374             0.893604\n",
      "\n",
      "[876 rows x 3 columns]\n"
     ]
    }
   ],
   "source": [
    "df_train = pd.DataFrame(train_normalized)\n",
    "# Remove the comment below to see the table\n",
    "print(df_train)"
   ]
  },
  {
   "cell_type": "code",
   "execution_count": 25,
   "metadata": {},
   "outputs": [
    {
     "data": {
      "text/html": [
       "<style>#sk-container-id-2 {color: black;}#sk-container-id-2 pre{padding: 0;}#sk-container-id-2 div.sk-toggleable {background-color: white;}#sk-container-id-2 label.sk-toggleable__label {cursor: pointer;display: block;width: 100%;margin-bottom: 0;padding: 0.3em;box-sizing: border-box;text-align: center;}#sk-container-id-2 label.sk-toggleable__label-arrow:before {content: \"▸\";float: left;margin-right: 0.25em;color: #696969;}#sk-container-id-2 label.sk-toggleable__label-arrow:hover:before {color: black;}#sk-container-id-2 div.sk-estimator:hover label.sk-toggleable__label-arrow:before {color: black;}#sk-container-id-2 div.sk-toggleable__content {max-height: 0;max-width: 0;overflow: hidden;text-align: left;background-color: #f0f8ff;}#sk-container-id-2 div.sk-toggleable__content pre {margin: 0.2em;color: black;border-radius: 0.25em;background-color: #f0f8ff;}#sk-container-id-2 input.sk-toggleable__control:checked~div.sk-toggleable__content {max-height: 200px;max-width: 100%;overflow: auto;}#sk-container-id-2 input.sk-toggleable__control:checked~label.sk-toggleable__label-arrow:before {content: \"▾\";}#sk-container-id-2 div.sk-estimator input.sk-toggleable__control:checked~label.sk-toggleable__label {background-color: #d4ebff;}#sk-container-id-2 div.sk-label input.sk-toggleable__control:checked~label.sk-toggleable__label {background-color: #d4ebff;}#sk-container-id-2 input.sk-hidden--visually {border: 0;clip: rect(1px 1px 1px 1px);clip: rect(1px, 1px, 1px, 1px);height: 1px;margin: -1px;overflow: hidden;padding: 0;position: absolute;width: 1px;}#sk-container-id-2 div.sk-estimator {font-family: monospace;background-color: #f0f8ff;border: 1px dotted black;border-radius: 0.25em;box-sizing: border-box;margin-bottom: 0.5em;}#sk-container-id-2 div.sk-estimator:hover {background-color: #d4ebff;}#sk-container-id-2 div.sk-parallel-item::after {content: \"\";width: 100%;border-bottom: 1px solid gray;flex-grow: 1;}#sk-container-id-2 div.sk-label:hover label.sk-toggleable__label {background-color: #d4ebff;}#sk-container-id-2 div.sk-serial::before {content: \"\";position: absolute;border-left: 1px solid gray;box-sizing: border-box;top: 0;bottom: 0;left: 50%;z-index: 0;}#sk-container-id-2 div.sk-serial {display: flex;flex-direction: column;align-items: center;background-color: white;padding-right: 0.2em;padding-left: 0.2em;position: relative;}#sk-container-id-2 div.sk-item {position: relative;z-index: 1;}#sk-container-id-2 div.sk-parallel {display: flex;align-items: stretch;justify-content: center;background-color: white;position: relative;}#sk-container-id-2 div.sk-item::before, #sk-container-id-2 div.sk-parallel-item::before {content: \"\";position: absolute;border-left: 1px solid gray;box-sizing: border-box;top: 0;bottom: 0;left: 50%;z-index: -1;}#sk-container-id-2 div.sk-parallel-item {display: flex;flex-direction: column;z-index: 1;position: relative;background-color: white;}#sk-container-id-2 div.sk-parallel-item:first-child::after {align-self: flex-end;width: 50%;}#sk-container-id-2 div.sk-parallel-item:last-child::after {align-self: flex-start;width: 50%;}#sk-container-id-2 div.sk-parallel-item:only-child::after {width: 0;}#sk-container-id-2 div.sk-dashed-wrapped {border: 1px dashed gray;margin: 0 0.4em 0.5em 0.4em;box-sizing: border-box;padding-bottom: 0.4em;background-color: white;}#sk-container-id-2 div.sk-label label {font-family: monospace;font-weight: bold;display: inline-block;line-height: 1.2em;}#sk-container-id-2 div.sk-label-container {text-align: center;}#sk-container-id-2 div.sk-container {/* jupyter's `normalize.less` sets `[hidden] { display: none; }` but bootstrap.min.css set `[hidden] { display: none !important; }` so we also need the `!important` here to be able to override the default hidden behavior on the sphinx rendered scikit-learn.org. See: https://github.com/scikit-learn/scikit-learn/issues/21755 */display: inline-block !important;position: relative;}#sk-container-id-2 div.sk-text-repr-fallback {display: none;}</style><div id=\"sk-container-id-2\" class=\"sk-top-container\"><div class=\"sk-text-repr-fallback\"><pre>LinearRegression()</pre><b>In a Jupyter environment, please rerun this cell to show the HTML representation or trust the notebook. <br />On GitHub, the HTML representation is unable to render, please try loading this page with nbviewer.org.</b></div><div class=\"sk-container\" hidden><div class=\"sk-item\"><div class=\"sk-estimator sk-toggleable\"><input class=\"sk-toggleable__control sk-hidden--visually\" id=\"sk-estimator-id-2\" type=\"checkbox\" checked><label for=\"sk-estimator-id-2\" class=\"sk-toggleable__label sk-toggleable__label-arrow\">LinearRegression</label><div class=\"sk-toggleable__content\"><pre>LinearRegression()</pre></div></div></div></div></div>"
      ],
      "text/plain": [
       "LinearRegression()"
      ]
     },
     "execution_count": 25,
     "metadata": {},
     "output_type": "execute_result"
    }
   ],
   "source": [
    "modelo = LinearRegression()\n",
    "modelo.fit(X_train, y_train)"
   ]
  },
  {
   "cell_type": "code",
   "execution_count": 26,
   "metadata": {},
   "outputs": [
    {
     "name": "stdout",
     "output_type": "stream",
     "text": [
      "Mean squared error: 0.8618109450142968\n",
      "Mean absolute error: 0.33090119752214964\n",
      "R-squared: 0.0008841274900289742\n"
     ]
    }
   ],
   "source": [
    "y_pred = modelo.predict(X_test)\n",
    "\n",
    "# Evaluate the model\n",
    "mse = mean_squared_error(y_test, y_pred)\n",
    "mae = mean_absolute_error(y_test, y_pred)\n",
    "r2 = r2_score(y_test, y_pred)\n",
    "\n",
    "print('Mean squared error:', mse)\n",
    "print('Mean absolute error:', mae)\n",
    "print('R-squared:', r2)"
   ]
  },
  {
   "cell_type": "code",
   "execution_count": 27,
   "metadata": {},
   "outputs": [],
   "source": [
    "#Função que realiza calculo da metrica MAE\n",
    "def root_mean_squared_error(x, y):\n",
    "        return Kb.sqrt(Kb.mean(Kb.square(x - y), axis=-1))"
   ]
  },
  {
   "cell_type": "code",
   "execution_count": 34,
   "metadata": {},
   "outputs": [
    {
     "name": "stdout",
     "output_type": "stream",
     "text": [
      "Epoch 1/100\n",
      "876/876 [==============================] - 2s 2ms/step - loss: 0.5248 - mean_absolute_error: 0.5342 - mean_squared_error: 0.5248 - root_mean_squared_error: 0.5781\n",
      "Epoch 2/100\n",
      "876/876 [==============================] - 1s 2ms/step - loss: 0.4522 - mean_absolute_error: 0.4945 - mean_squared_error: 0.4522 - root_mean_squared_error: 0.5315\n",
      "Epoch 3/100\n",
      "876/876 [==============================] - 1s 2ms/step - loss: 0.4494 - mean_absolute_error: 0.4931 - mean_squared_error: 0.4494 - root_mean_squared_error: 0.5268\n",
      "Epoch 4/100\n",
      "876/876 [==============================] - 1s 2ms/step - loss: 0.4483 - mean_absolute_error: 0.4925 - mean_squared_error: 0.4483 - root_mean_squared_error: 0.5245\n",
      "Epoch 5/100\n",
      "876/876 [==============================] - 1s 2ms/step - loss: 0.4478 - mean_absolute_error: 0.4927 - mean_squared_error: 0.4478 - root_mean_squared_error: 0.5239\n",
      "Epoch 6/100\n",
      "876/876 [==============================] - 1s 1ms/step - loss: 0.4480 - mean_absolute_error: 0.4930 - mean_squared_error: 0.4480 - root_mean_squared_error: 0.5242\n",
      "Epoch 7/100\n",
      "876/876 [==============================] - 1s 1ms/step - loss: 0.4476 - mean_absolute_error: 0.4928 - mean_squared_error: 0.4476 - root_mean_squared_error: 0.5237\n",
      "Epoch 8/100\n",
      "876/876 [==============================] - 1s 2ms/step - loss: 0.4481 - mean_absolute_error: 0.4932 - mean_squared_error: 0.4481 - root_mean_squared_error: 0.5242\n",
      "Epoch 9/100\n",
      "876/876 [==============================] - 1s 2ms/step - loss: 0.4478 - mean_absolute_error: 0.4932 - mean_squared_error: 0.4478 - root_mean_squared_error: 0.5240\n",
      "Epoch 10/100\n",
      "876/876 [==============================] - 1s 2ms/step - loss: 0.4475 - mean_absolute_error: 0.4934 - mean_squared_error: 0.4475 - root_mean_squared_error: 0.5237\n",
      "Epoch 11/100\n",
      "876/876 [==============================] - 1s 2ms/step - loss: 0.4477 - mean_absolute_error: 0.4932 - mean_squared_error: 0.4477 - root_mean_squared_error: 0.5242\n",
      "Epoch 12/100\n",
      "876/876 [==============================] - 1s 2ms/step - loss: 0.4477 - mean_absolute_error: 0.4933 - mean_squared_error: 0.4477 - root_mean_squared_error: 0.5239\n",
      "Epoch 13/100\n",
      "876/876 [==============================] - 1s 2ms/step - loss: 0.4482 - mean_absolute_error: 0.4934 - mean_squared_error: 0.4482 - root_mean_squared_error: 0.5248\n",
      "Epoch 14/100\n",
      "876/876 [==============================] - 1s 2ms/step - loss: 0.4474 - mean_absolute_error: 0.4932 - mean_squared_error: 0.4474 - root_mean_squared_error: 0.5236\n",
      "Epoch 15/100\n",
      "876/876 [==============================] - 1s 1ms/step - loss: 0.4476 - mean_absolute_error: 0.4930 - mean_squared_error: 0.4476 - root_mean_squared_error: 0.5236\n",
      "Epoch 16/100\n",
      "876/876 [==============================] - 1s 2ms/step - loss: 0.4477 - mean_absolute_error: 0.4933 - mean_squared_error: 0.4477 - root_mean_squared_error: 0.5239\n",
      "Epoch 17/100\n",
      "876/876 [==============================] - 1s 1ms/step - loss: 0.4475 - mean_absolute_error: 0.4929 - mean_squared_error: 0.4475 - root_mean_squared_error: 0.5237\n",
      "Epoch 18/100\n",
      "876/876 [==============================] - 1s 1ms/step - loss: 0.4479 - mean_absolute_error: 0.4934 - mean_squared_error: 0.4479 - root_mean_squared_error: 0.5239\n",
      "Epoch 19/100\n",
      "876/876 [==============================] - 1s 1ms/step - loss: 0.4476 - mean_absolute_error: 0.4933 - mean_squared_error: 0.4476 - root_mean_squared_error: 0.5238\n",
      "Epoch 20/100\n",
      "876/876 [==============================] - 1s 2ms/step - loss: 0.4473 - mean_absolute_error: 0.4929 - mean_squared_error: 0.4473 - root_mean_squared_error: 0.5231\n",
      "Epoch 21/100\n",
      "876/876 [==============================] - 1s 2ms/step - loss: 0.4474 - mean_absolute_error: 0.4931 - mean_squared_error: 0.4474 - root_mean_squared_error: 0.5233\n",
      "Epoch 22/100\n",
      "876/876 [==============================] - 1s 2ms/step - loss: 0.4475 - mean_absolute_error: 0.4933 - mean_squared_error: 0.4475 - root_mean_squared_error: 0.5238\n",
      "Epoch 23/100\n",
      "876/876 [==============================] - 1s 2ms/step - loss: 0.4477 - mean_absolute_error: 0.4931 - mean_squared_error: 0.4477 - root_mean_squared_error: 0.5239\n",
      "Epoch 24/100\n",
      "876/876 [==============================] - 1s 1ms/step - loss: 0.4475 - mean_absolute_error: 0.4930 - mean_squared_error: 0.4475 - root_mean_squared_error: 0.5235\n",
      "Epoch 25/100\n",
      "876/876 [==============================] - 1s 1ms/step - loss: 0.4476 - mean_absolute_error: 0.4930 - mean_squared_error: 0.4476 - root_mean_squared_error: 0.5236\n",
      "Epoch 26/100\n",
      "876/876 [==============================] - 1s 1ms/step - loss: 0.4475 - mean_absolute_error: 0.4931 - mean_squared_error: 0.4475 - root_mean_squared_error: 0.5236\n",
      "Epoch 27/100\n",
      "876/876 [==============================] - 1s 2ms/step - loss: 0.4476 - mean_absolute_error: 0.4932 - mean_squared_error: 0.4476 - root_mean_squared_error: 0.5238\n",
      "Epoch 28/100\n",
      "876/876 [==============================] - 1s 2ms/step - loss: 0.4473 - mean_absolute_error: 0.4931 - mean_squared_error: 0.4473 - root_mean_squared_error: 0.5232\n",
      "Epoch 29/100\n",
      "876/876 [==============================] - 1s 2ms/step - loss: 0.4475 - mean_absolute_error: 0.4932 - mean_squared_error: 0.4475 - root_mean_squared_error: 0.5235\n",
      "Epoch 30/100\n",
      "876/876 [==============================] - 1s 2ms/step - loss: 0.4474 - mean_absolute_error: 0.4928 - mean_squared_error: 0.4474 - root_mean_squared_error: 0.5233\n",
      "Epoch 31/100\n",
      "876/876 [==============================] - 1s 1ms/step - loss: 0.4474 - mean_absolute_error: 0.4934 - mean_squared_error: 0.4474 - root_mean_squared_error: 0.5235\n",
      "Epoch 32/100\n",
      "876/876 [==============================] - 1s 2ms/step - loss: 0.4476 - mean_absolute_error: 0.4930 - mean_squared_error: 0.4476 - root_mean_squared_error: 0.5236\n",
      "Epoch 33/100\n",
      "876/876 [==============================] - 1s 1ms/step - loss: 0.4473 - mean_absolute_error: 0.4932 - mean_squared_error: 0.4473 - root_mean_squared_error: 0.5233\n",
      "Epoch 34/100\n",
      "876/876 [==============================] - 1s 2ms/step - loss: 0.4474 - mean_absolute_error: 0.4930 - mean_squared_error: 0.4474 - root_mean_squared_error: 0.5232\n",
      "Epoch 35/100\n",
      "876/876 [==============================] - 1s 2ms/step - loss: 0.4473 - mean_absolute_error: 0.4931 - mean_squared_error: 0.4473 - root_mean_squared_error: 0.5233\n",
      "Epoch 36/100\n",
      "876/876 [==============================] - 1s 1ms/step - loss: 0.4473 - mean_absolute_error: 0.4930 - mean_squared_error: 0.4473 - root_mean_squared_error: 0.5231\n",
      "Epoch 37/100\n",
      "876/876 [==============================] - 1s 1ms/step - loss: 0.4476 - mean_absolute_error: 0.4931 - mean_squared_error: 0.4476 - root_mean_squared_error: 0.5238\n",
      "Epoch 38/100\n",
      "876/876 [==============================] - 1s 1ms/step - loss: 0.4476 - mean_absolute_error: 0.4929 - mean_squared_error: 0.4476 - root_mean_squared_error: 0.5233\n",
      "Epoch 39/100\n",
      "876/876 [==============================] - 1s 1ms/step - loss: 0.4473 - mean_absolute_error: 0.4933 - mean_squared_error: 0.4473 - root_mean_squared_error: 0.5232\n",
      "Epoch 40/100\n",
      "876/876 [==============================] - 1s 2ms/step - loss: 0.4473 - mean_absolute_error: 0.4930 - mean_squared_error: 0.4473 - root_mean_squared_error: 0.5232\n",
      "Epoch 41/100\n",
      "876/876 [==============================] - 1s 1ms/step - loss: 0.4475 - mean_absolute_error: 0.4933 - mean_squared_error: 0.4475 - root_mean_squared_error: 0.5238\n",
      "Epoch 42/100\n",
      "876/876 [==============================] - 1s 1ms/step - loss: 0.4474 - mean_absolute_error: 0.4930 - mean_squared_error: 0.4474 - root_mean_squared_error: 0.5234\n",
      "Epoch 43/100\n",
      "876/876 [==============================] - 1s 2ms/step - loss: 0.4472 - mean_absolute_error: 0.4931 - mean_squared_error: 0.4472 - root_mean_squared_error: 0.5231\n",
      "Epoch 44/100\n",
      "876/876 [==============================] - 1s 1ms/step - loss: 0.4474 - mean_absolute_error: 0.4931 - mean_squared_error: 0.4474 - root_mean_squared_error: 0.5234\n",
      "Epoch 45/100\n",
      "876/876 [==============================] - 1s 2ms/step - loss: 0.4473 - mean_absolute_error: 0.4933 - mean_squared_error: 0.4473 - root_mean_squared_error: 0.5234\n",
      "Epoch 46/100\n",
      "876/876 [==============================] - 1s 1ms/step - loss: 0.4474 - mean_absolute_error: 0.4931 - mean_squared_error: 0.4474 - root_mean_squared_error: 0.5233\n",
      "Epoch 47/100\n",
      "876/876 [==============================] - 2s 2ms/step - loss: 0.4472 - mean_absolute_error: 0.4931 - mean_squared_error: 0.4472 - root_mean_squared_error: 0.5230\n",
      "Epoch 48/100\n",
      "876/876 [==============================] - 1s 2ms/step - loss: 0.4473 - mean_absolute_error: 0.4932 - mean_squared_error: 0.4473 - root_mean_squared_error: 0.5232\n",
      "Epoch 49/100\n",
      "876/876 [==============================] - 1s 2ms/step - loss: 0.4473 - mean_absolute_error: 0.4931 - mean_squared_error: 0.4473 - root_mean_squared_error: 0.5233\n",
      "Epoch 50/100\n",
      "876/876 [==============================] - 1s 2ms/step - loss: 0.4473 - mean_absolute_error: 0.4931 - mean_squared_error: 0.4473 - root_mean_squared_error: 0.5232\n",
      "Epoch 51/100\n",
      "876/876 [==============================] - 1s 2ms/step - loss: 0.4474 - mean_absolute_error: 0.4931 - mean_squared_error: 0.4474 - root_mean_squared_error: 0.5233\n",
      "Epoch 52/100\n",
      "876/876 [==============================] - 1s 1ms/step - loss: 0.4472 - mean_absolute_error: 0.4930 - mean_squared_error: 0.4472 - root_mean_squared_error: 0.5230\n",
      "Epoch 53/100\n",
      "876/876 [==============================] - 2s 2ms/step - loss: 0.4473 - mean_absolute_error: 0.4932 - mean_squared_error: 0.4473 - root_mean_squared_error: 0.5232\n",
      "Epoch 54/100\n",
      "876/876 [==============================] - 1s 2ms/step - loss: 0.4474 - mean_absolute_error: 0.4930 - mean_squared_error: 0.4474 - root_mean_squared_error: 0.5233\n",
      "Epoch 55/100\n",
      "876/876 [==============================] - 1s 1ms/step - loss: 0.4472 - mean_absolute_error: 0.4931 - mean_squared_error: 0.4472 - root_mean_squared_error: 0.5230\n",
      "Epoch 56/100\n",
      "876/876 [==============================] - 1s 2ms/step - loss: 0.4473 - mean_absolute_error: 0.4930 - mean_squared_error: 0.4473 - root_mean_squared_error: 0.5232\n",
      "Epoch 57/100\n",
      "876/876 [==============================] - 1s 2ms/step - loss: 0.4474 - mean_absolute_error: 0.4931 - mean_squared_error: 0.4474 - root_mean_squared_error: 0.5233\n",
      "Epoch 58/100\n",
      "876/876 [==============================] - 1s 1ms/step - loss: 0.4473 - mean_absolute_error: 0.4932 - mean_squared_error: 0.4473 - root_mean_squared_error: 0.5233\n",
      "Epoch 59/100\n",
      "876/876 [==============================] - 1s 2ms/step - loss: 0.4473 - mean_absolute_error: 0.4930 - mean_squared_error: 0.4473 - root_mean_squared_error: 0.5232\n",
      "Epoch 60/100\n",
      "876/876 [==============================] - 1s 2ms/step - loss: 0.4473 - mean_absolute_error: 0.4931 - mean_squared_error: 0.4473 - root_mean_squared_error: 0.5232\n",
      "Epoch 61/100\n",
      "876/876 [==============================] - 1s 2ms/step - loss: 0.4475 - mean_absolute_error: 0.4932 - mean_squared_error: 0.4475 - root_mean_squared_error: 0.5235\n",
      "Epoch 62/100\n",
      "876/876 [==============================] - 1s 2ms/step - loss: 0.4472 - mean_absolute_error: 0.4930 - mean_squared_error: 0.4472 - root_mean_squared_error: 0.5230\n",
      "Epoch 63/100\n",
      "876/876 [==============================] - 1s 2ms/step - loss: 0.4473 - mean_absolute_error: 0.4932 - mean_squared_error: 0.4473 - root_mean_squared_error: 0.5233\n",
      "Epoch 64/100\n",
      "876/876 [==============================] - 1s 1ms/step - loss: 0.4472 - mean_absolute_error: 0.4931 - mean_squared_error: 0.4472 - root_mean_squared_error: 0.5232\n",
      "Epoch 65/100\n",
      "876/876 [==============================] - 1s 1ms/step - loss: 0.4473 - mean_absolute_error: 0.4932 - mean_squared_error: 0.4473 - root_mean_squared_error: 0.5233\n",
      "Epoch 66/100\n",
      "876/876 [==============================] - 1s 2ms/step - loss: 0.4475 - mean_absolute_error: 0.4936 - mean_squared_error: 0.4475 - root_mean_squared_error: 0.5236\n",
      "Epoch 67/100\n",
      "876/876 [==============================] - 1s 1ms/step - loss: 0.4472 - mean_absolute_error: 0.4931 - mean_squared_error: 0.4472 - root_mean_squared_error: 0.5230\n",
      "Epoch 68/100\n",
      "876/876 [==============================] - 1s 1ms/step - loss: 0.4472 - mean_absolute_error: 0.4932 - mean_squared_error: 0.4472 - root_mean_squared_error: 0.5231\n",
      "Epoch 69/100\n",
      "876/876 [==============================] - 1s 1ms/step - loss: 0.4474 - mean_absolute_error: 0.4934 - mean_squared_error: 0.4474 - root_mean_squared_error: 0.5236\n",
      "Epoch 70/100\n",
      "876/876 [==============================] - 1s 1ms/step - loss: 0.4473 - mean_absolute_error: 0.4931 - mean_squared_error: 0.4473 - root_mean_squared_error: 0.5231\n",
      "Epoch 71/100\n",
      "876/876 [==============================] - 1s 2ms/step - loss: 0.4474 - mean_absolute_error: 0.4934 - mean_squared_error: 0.4474 - root_mean_squared_error: 0.5234\n",
      "Epoch 72/100\n",
      "876/876 [==============================] - 1s 1ms/step - loss: 0.4473 - mean_absolute_error: 0.4931 - mean_squared_error: 0.4473 - root_mean_squared_error: 0.5232\n",
      "Epoch 73/100\n",
      "876/876 [==============================] - 1s 1ms/step - loss: 0.4472 - mean_absolute_error: 0.4931 - mean_squared_error: 0.4472 - root_mean_squared_error: 0.5231\n",
      "Epoch 74/100\n",
      "876/876 [==============================] - 1s 1ms/step - loss: 0.4472 - mean_absolute_error: 0.4931 - mean_squared_error: 0.4472 - root_mean_squared_error: 0.5231\n",
      "Epoch 75/100\n",
      "876/876 [==============================] - 1s 1ms/step - loss: 0.4475 - mean_absolute_error: 0.4932 - mean_squared_error: 0.4475 - root_mean_squared_error: 0.5236\n",
      "Epoch 76/100\n",
      "876/876 [==============================] - 1s 2ms/step - loss: 0.4472 - mean_absolute_error: 0.4930 - mean_squared_error: 0.4472 - root_mean_squared_error: 0.5229\n",
      "Epoch 77/100\n",
      "876/876 [==============================] - 1s 2ms/step - loss: 0.4473 - mean_absolute_error: 0.4931 - mean_squared_error: 0.4473 - root_mean_squared_error: 0.5232\n",
      "Epoch 78/100\n",
      "876/876 [==============================] - 1s 1ms/step - loss: 0.4474 - mean_absolute_error: 0.4932 - mean_squared_error: 0.4474 - root_mean_squared_error: 0.5233\n",
      "Epoch 79/100\n",
      "876/876 [==============================] - 1s 2ms/step - loss: 0.4474 - mean_absolute_error: 0.4933 - mean_squared_error: 0.4474 - root_mean_squared_error: 0.5235\n",
      "Epoch 80/100\n",
      "876/876 [==============================] - 1s 1ms/step - loss: 0.4472 - mean_absolute_error: 0.4931 - mean_squared_error: 0.4472 - root_mean_squared_error: 0.5230\n",
      "Epoch 81/100\n",
      "876/876 [==============================] - 1s 2ms/step - loss: 0.4473 - mean_absolute_error: 0.4932 - mean_squared_error: 0.4473 - root_mean_squared_error: 0.5231\n",
      "Epoch 82/100\n",
      "876/876 [==============================] - 1s 2ms/step - loss: 0.4474 - mean_absolute_error: 0.4929 - mean_squared_error: 0.4474 - root_mean_squared_error: 0.5231\n",
      "Epoch 83/100\n",
      "876/876 [==============================] - 1s 2ms/step - loss: 0.4472 - mean_absolute_error: 0.4931 - mean_squared_error: 0.4472 - root_mean_squared_error: 0.5230\n",
      "Epoch 84/100\n",
      "876/876 [==============================] - 1s 1ms/step - loss: 0.4473 - mean_absolute_error: 0.4931 - mean_squared_error: 0.4473 - root_mean_squared_error: 0.5232\n",
      "Epoch 85/100\n",
      "876/876 [==============================] - 1s 1ms/step - loss: 0.4473 - mean_absolute_error: 0.4931 - mean_squared_error: 0.4473 - root_mean_squared_error: 0.5231\n",
      "Epoch 86/100\n",
      "876/876 [==============================] - 1s 2ms/step - loss: 0.4472 - mean_absolute_error: 0.4930 - mean_squared_error: 0.4472 - root_mean_squared_error: 0.5231\n",
      "Epoch 87/100\n",
      "876/876 [==============================] - 1s 2ms/step - loss: 0.4472 - mean_absolute_error: 0.4931 - mean_squared_error: 0.4472 - root_mean_squared_error: 0.5231\n",
      "Epoch 88/100\n",
      "876/876 [==============================] - 1s 1ms/step - loss: 0.4472 - mean_absolute_error: 0.4931 - mean_squared_error: 0.4472 - root_mean_squared_error: 0.5230\n",
      "Epoch 89/100\n",
      "876/876 [==============================] - 1s 2ms/step - loss: 0.4473 - mean_absolute_error: 0.4931 - mean_squared_error: 0.4473 - root_mean_squared_error: 0.5232\n",
      "Epoch 90/100\n",
      "876/876 [==============================] - 1s 2ms/step - loss: 0.4473 - mean_absolute_error: 0.4931 - mean_squared_error: 0.4473 - root_mean_squared_error: 0.5232\n",
      "Epoch 91/100\n",
      "876/876 [==============================] - 1s 2ms/step - loss: 0.4472 - mean_absolute_error: 0.4931 - mean_squared_error: 0.4472 - root_mean_squared_error: 0.5230\n",
      "Epoch 92/100\n",
      "876/876 [==============================] - 2s 2ms/step - loss: 0.4473 - mean_absolute_error: 0.4932 - mean_squared_error: 0.4473 - root_mean_squared_error: 0.5233\n",
      "Epoch 93/100\n"
     ]
    },
    {
     "name": "stdout",
     "output_type": "stream",
     "text": [
      "876/876 [==============================] - 1s 2ms/step - loss: 0.4472 - mean_absolute_error: 0.4931 - mean_squared_error: 0.4472 - root_mean_squared_error: 0.5231\n",
      "Epoch 94/100\n",
      "876/876 [==============================] - 1s 2ms/step - loss: 0.4473 - mean_absolute_error: 0.4930 - mean_squared_error: 0.4473 - root_mean_squared_error: 0.5232\n",
      "Epoch 95/100\n",
      "876/876 [==============================] - 1s 1ms/step - loss: 0.4472 - mean_absolute_error: 0.4930 - mean_squared_error: 0.4472 - root_mean_squared_error: 0.5230\n",
      "Epoch 96/100\n",
      "876/876 [==============================] - 1s 1ms/step - loss: 0.4472 - mean_absolute_error: 0.4931 - mean_squared_error: 0.4472 - root_mean_squared_error: 0.5231\n",
      "Epoch 97/100\n",
      "876/876 [==============================] - 1s 1ms/step - loss: 0.4472 - mean_absolute_error: 0.4930 - mean_squared_error: 0.4472 - root_mean_squared_error: 0.5230\n",
      "Epoch 98/100\n",
      "876/876 [==============================] - 1s 1ms/step - loss: 0.4473 - mean_absolute_error: 0.4931 - mean_squared_error: 0.4473 - root_mean_squared_error: 0.5232\n",
      "Epoch 99/100\n",
      "876/876 [==============================] - 2s 2ms/step - loss: 0.4472 - mean_absolute_error: 0.4931 - mean_squared_error: 0.4472 - root_mean_squared_error: 0.5230\n",
      "Epoch 100/100\n",
      "876/876 [==============================] - 1s 2ms/step - loss: 0.4472 - mean_absolute_error: 0.4930 - mean_squared_error: 0.4472 - root_mean_squared_error: 0.5230\n"
     ]
    },
    {
     "data": {
      "text/plain": [
       "<keras.callbacks.History at 0x16e6a444a30>"
      ]
     },
     "execution_count": 34,
     "metadata": {},
     "output_type": "execute_result"
    }
   ],
   "source": [
    "#Treinando Epoch\n",
    "regularizer=tf.compat.v1.keras.regularizers.l2(0.001)\n",
    "model = keras.Sequential([\n",
    "layers.Dense(20, activation='ELU', input_shape = (8,), kernel_regularizer=regularizer),\n",
    "layers.Dense(12, activation='ELU', kernel_regularizer=regularizer),\n",
    "layers.Dense(4, activation='ELU', kernel_regularizer=regularizer),\n",
    "layers.Dense(1)\n",
    "])\n",
    "\n",
    "model.compile(loss='mean_squared_error', optimizer='adam',#Utilizando metrica MAE e MSE\n",
    "              metrics=['mean_absolute_error', 'mean_squared_error', root_mean_squared_error])\n",
    "\n",
    "model.fit(train_normalized, train_result,\n",
    "  epochs=100, batch_size=1,validation_split = 0.0, verbose=1)\n"
   ]
  },
  {
   "cell_type": "code",
   "execution_count": 35,
   "metadata": {},
   "outputs": [
    {
     "name": "stdout",
     "output_type": "stream",
     "text": [
      "28/28 [==============================] - 1s 1ms/step - loss: 294.4401 - mean_absolute_error: 12.8094 - mean_squared_error: 294.4401 - root_mean_squared_error: 12.8094\n",
      "19/19 [==============================] - 0s 1ms/step\n",
      "Mean Squared Error: 1.7802232226167238\n",
      "Mean Absolute Error: 1.1697126230826747\n",
      "R-squared: -1.0638508812367355\n"
     ]
    },
    {
     "data": {
      "image/png": "[encoded data removed]",
      "text/plain": [
       "<Figure size 640x480 with 1 Axes>"
      ]
     },
     "metadata": {},
     "output_type": "display_data"
    },
    {
     "name": "stdout",
     "output_type": "stream",
     "text": [
      "19/19 [==============================] - 0s 2ms/step\n",
      "         Pred  Real\n",
      "0    1.134331   0.0\n",
      "1    1.129338   0.0\n",
      "2    1.113550   0.0\n",
      "3    1.139536   0.0\n",
      "4    1.246323   0.0\n",
      "..        ...   ...\n",
      "580  1.223802   0.0\n",
      "581  1.169197   0.0\n",
      "582  1.214967   0.0\n",
      "583  1.335481   0.0\n",
      "584  1.146968   0.0\n",
      "\n",
      "[585 rows x 2 columns]\n"
     ]
    }
   ],
   "source": [
    "# Treinando o modelo\n",
    "model.fit(X_train, y_train)\n",
    "\n",
    "# Fazendo previsões no conjunto de teste\n",
    "y_pred = model.predict(X_test)\n",
    "\n",
    "# Avaliando o desempenho do modelo\n",
    "mse = mean_squared_error(y_test, y_pred)\n",
    "mae = mean_absolute_error(y_test, y_pred)\n",
    "r2 = r2_score(y_test, y_pred)\n",
    "\n",
    "print('Mean Squared Error:', mse)\n",
    "print('Mean Absolute Error:', mae)\n",
    "print('R-squared:', r2)\n",
    "\n",
    "# Visualizando as previsões em relação aos valores reais\n",
    "plt.plot(y_test.values, label='Actual Precipitation', color='blue')\n",
    "plt.plot(y_pred, label='Predicted Precipitation', color='red')\n",
    "plt.xlabel('Sample Index')\n",
    "plt.ylabel('Precipitation')\n",
    "plt.title('Actual vs Predicted Precipitation')\n",
    "plt.legend()\n",
    "plt.show()\n",
    "\n",
    "# Realizando previsões utilizando sklearn\n",
    "predictions = model.predict(X_test)\n",
    "df1 = pd.DataFrame({\"Pred\": predictions.flatten(), \"Real\": y_test.values.flatten()})\n",
    "\n",
    "# Visualizando as previsões em um DataFrame\n",
    "print(df1)\n"
   ]
  },
  {
   "cell_type": "code",
   "execution_count": 36,
   "metadata": {},
   "outputs": [
    {
     "name": "stdout",
     "output_type": "stream",
     "text": [
      "19/19 [==============================] - 0s 2ms/step\n",
      "         Pred  Real\n",
      "0    1.134331   0.0\n",
      "1    1.129338   0.0\n",
      "2    1.113550   0.0\n",
      "3    1.139536   0.0\n",
      "4    1.246323   0.0\n",
      "..        ...   ...\n",
      "580  1.223802   0.0\n",
      "581  1.169197   0.0\n",
      "582  1.214967   0.0\n",
      "583  1.335481   0.0\n",
      "584  1.146968   0.0\n",
      "\n",
      "[585 rows x 2 columns]\n"
     ]
    }
   ],
   "source": [
    "# Realizando previsões utilizando sklearn\n",
    "predictions = model.predict(X_test)\n",
    "df1 = pd.DataFrame(df1)\n",
    "\n",
    "# Visualizando as previsões em um DataFrame\n",
    "print(df1)"
   ]
  }
 ],
 "metadata": {
  "colab": {
   "provenance": []
  },
  "kernelspec": {
   "display_name": "Python 3 (ipykernel)",
   "language": "python",
   "name": "python3"
  },
  "language_info": {
   "codemirror_mode": {
    "name": "ipython",
    "version": 3
   },
   "file_extension": ".py",
   "mimetype": "text/x-python",
   "name": "python",
   "nbconvert_exporter": "python",
   "pygments_lexer": "ipython3",
   "version": "3.9.18"
  }
 },
 "nbformat": 4,
 "nbformat_minor": 1
}
