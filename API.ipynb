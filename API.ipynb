{
 "cells": [
  {
   "cell_type": "code",
   "execution_count": 5,
   "id": "4e9ae59b",
   "metadata": {},
   "outputs": [
    {
     "name": "stdout",
     "output_type": "stream",
     "text": [
      "Requirement already satisfied: openmeteo-requests in c:\\users\\rodri\\appdata\\local\\programs\\python\\python310\\lib\\site-packages (1.1.0)\n",
      "Requirement already satisfied: openmeteo-sdk>=1.4.0 in c:\\users\\rodri\\appdata\\local\\programs\\python\\python310\\lib\\site-packages (from openmeteo-requests) (1.7.2)\n",
      "Requirement already satisfied: requests in c:\\users\\rodri\\appdata\\local\\programs\\python\\python310\\lib\\site-packages (from openmeteo-requests) (2.31.0)\n",
      "Requirement already satisfied: flatbuffers>=23.0.0 in c:\\users\\rodri\\appdata\\local\\programs\\python\\python310\\lib\\site-packages (from openmeteo-sdk>=1.4.0->openmeteo-requests) (23.5.26)\n",
      "Requirement already satisfied: charset-normalizer<4,>=2 in c:\\users\\rodri\\appdata\\local\\programs\\python\\python310\\lib\\site-packages (from requests->openmeteo-requests) (3.1.0)\n",
      "Requirement already satisfied: idna<4,>=2.5 in c:\\users\\rodri\\appdata\\local\\programs\\python\\python310\\lib\\site-packages (from requests->openmeteo-requests) (3.4)\n",
      "Requirement already satisfied: urllib3<3,>=1.21.1 in c:\\users\\rodri\\appdata\\local\\programs\\python\\python310\\lib\\site-packages (from requests->openmeteo-requests) (2.0.3)\n",
      "Requirement already satisfied: certifi>=2017.4.17 in c:\\users\\rodri\\appdata\\local\\programs\\python\\python310\\lib\\site-packages (from requests->openmeteo-requests) (2023.5.7)\n"
     ]
    },
    {
     "name": "stderr",
     "output_type": "stream",
     "text": [
      "\n",
      "[notice] A new release of pip is available: 23.1.2 -> 23.3.2\n",
      "[notice] To update, run: C:\\Users\\rodri\\AppData\\Local\\Programs\\Python\\Python310\\python.exe -m pip install --upgrade pip\n"
     ]
    },
    {
     "name": "stdout",
     "output_type": "stream",
     "text": [
      "Requirement already satisfied: requests-cache in c:\\users\\rodri\\appdata\\local\\programs\\python\\python310\\lib\\site-packages (1.1.1)\n",
      "Requirement already satisfied: retry-requests in c:\\users\\rodri\\appdata\\local\\programs\\python\\python310\\lib\\site-packages (2.0.0)\n",
      "Requirement already satisfied: numpy in c:\\users\\rodri\\appdata\\local\\programs\\python\\python310\\lib\\site-packages (1.25.0)\n",
      "Requirement already satisfied: pandas in c:\\users\\rodri\\appdata\\local\\programs\\python\\python310\\lib\\site-packages (2.0.3)\n",
      "Requirement already satisfied: attrs>=21.2 in c:\\users\\rodri\\appdata\\local\\programs\\python\\python310\\lib\\site-packages (from requests-cache) (23.1.0)\n",
      "Requirement already satisfied: cattrs>=22.2 in c:\\users\\rodri\\appdata\\local\\programs\\python\\python310\\lib\\site-packages (from requests-cache) (23.2.3)\n",
      "Requirement already satisfied: platformdirs>=2.5 in c:\\users\\rodri\\appdata\\local\\programs\\python\\python310\\lib\\site-packages (from requests-cache) (4.1.0)\n",
      "Requirement already satisfied: requests>=2.22 in c:\\users\\rodri\\appdata\\local\\programs\\python\\python310\\lib\\site-packages (from requests-cache) (2.31.0)\n",
      "Requirement already satisfied: url-normalize>=1.4 in c:\\users\\rodri\\appdata\\local\\programs\\python\\python310\\lib\\site-packages (from requests-cache) (1.4.3)\n",
      "Requirement already satisfied: urllib3>=1.25.5 in c:\\users\\rodri\\appdata\\local\\programs\\python\\python310\\lib\\site-packages (from requests-cache) (2.0.3)\n",
      "Requirement already satisfied: python-dateutil>=2.8.2 in c:\\users\\rodri\\appdata\\local\\programs\\python\\python310\\lib\\site-packages (from pandas) (2.8.2)\n",
      "Requirement already satisfied: pytz>=2020.1 in c:\\users\\rodri\\appdata\\local\\programs\\python\\python310\\lib\\site-packages (from pandas) (2023.3)\n",
      "Requirement already satisfied: tzdata>=2022.1 in c:\\users\\rodri\\appdata\\local\\programs\\python\\python310\\lib\\site-packages (from pandas) (2023.3)\n",
      "Requirement already satisfied: exceptiongroup>=1.1.1 in c:\\users\\rodri\\appdata\\local\\programs\\python\\python310\\lib\\site-packages (from cattrs>=22.2->requests-cache) (1.1.2)\n",
      "Requirement already satisfied: typing-extensions!=4.6.3,>=4.1.0 in c:\\users\\rodri\\appdata\\local\\programs\\python\\python310\\lib\\site-packages (from cattrs>=22.2->requests-cache) (4.7.1)\n",
      "Requirement already satisfied: six>=1.5 in c:\\users\\rodri\\appdata\\local\\programs\\python\\python310\\lib\\site-packages (from python-dateutil>=2.8.2->pandas) (1.16.0)\n",
      "Requirement already satisfied: charset-normalizer<4,>=2 in c:\\users\\rodri\\appdata\\local\\programs\\python\\python310\\lib\\site-packages (from requests>=2.22->requests-cache) (3.1.0)\n",
      "Requirement already satisfied: idna<4,>=2.5 in c:\\users\\rodri\\appdata\\local\\programs\\python\\python310\\lib\\site-packages (from requests>=2.22->requests-cache) (3.4)\n",
      "Requirement already satisfied: certifi>=2017.4.17 in c:\\users\\rodri\\appdata\\local\\programs\\python\\python310\\lib\\site-packages (from requests>=2.22->requests-cache) (2023.5.7)\n"
     ]
    },
    {
     "name": "stderr",
     "output_type": "stream",
     "text": [
      "\n",
      "[notice] A new release of pip is available: 23.1.2 -> 23.3.2\n",
      "[notice] To update, run: C:\\Users\\rodri\\AppData\\Local\\Programs\\Python\\Python310\\python.exe -m pip install --upgrade pip\n"
     ]
    },
    {
     "name": "stdout",
     "output_type": "stream",
     "text": [
      "Requirement already satisfied: pip in c:\\users\\rodri\\appdata\\local\\programs\\python\\python310\\lib\\site-packages (23.1.2)\n",
      "Collecting pip\n",
      "  Downloading pip-23.3.2-py3-none-any.whl (2.1 MB)\n",
      "     ---------------------------------------- 2.1/2.1 MB 7.5 MB/s eta 0:00:00\n"
     ]
    },
    {
     "name": "stderr",
     "output_type": "stream",
     "text": [
      "ERROR: To modify pip, please run the following command:\n",
      "C:\\Users\\rodri\\AppData\\Local\\Programs\\Python\\Python310\\python.exe -m pip install --upgrade pip\n",
      "\n",
      "[notice] A new release of pip is available: 23.1.2 -> 23.3.2\n",
      "[notice] To update, run: C:\\Users\\rodri\\AppData\\Local\\Programs\\Python\\Python310\\python.exe -m pip install --upgrade pip\n"
     ]
    }
   ],
   "source": [
    "#Instalando bibliotecas ausentes\n",
    "!pip install openmeteo_requests\n",
    "!pip install requests_cache \n",
    "!pip install retry_requests\n",
    "\n",
    "#  Importando bibliotecas necessárias\n",
    "import openmeteo_requests\n",
    "\n",
    "import requests_cache\n",
    "import pandas as pd\n",
    "from retry_requests import retry"
   ]
  },
  {
   "cell_type": "code",
   "execution_count": 2,
   "id": "a469450e",
   "metadata": {},
   "outputs": [
    {
     "ename": "SyntaxError",
     "evalue": "invalid syntax (2993522841.py, line 61)",
     "output_type": "error",
     "traceback": [
      "\u001b[1;36m  Input \u001b[1;32mIn [2]\u001b[1;36m\u001b[0m\n\u001b[1;33m    print(daily_dataframe) daily_data)\u001b[0m\n\u001b[1;37m                           ^\u001b[0m\n\u001b[1;31mSyntaxError\u001b[0m\u001b[1;31m:\u001b[0m invalid syntax\n"
     ]
    }
   ],
   "source": [
    "cache_session = requests_cache.CachedSession('.cache', expire_after = 3600)\n",
    "retry_session = retry(cache_session, retries = 5, backoff_factor = 0.2)\n",
    "openmeteo = openmeteo_requests.Client(session = retry_session)\n",
    "\n",
    "# Make sure all required weather variables are listed here\n",
    "# The order of variables in hourly or daily is important to assign them correctly below\n",
    "url = \"https://climate-api.open-meteo.com/v1/climate?latitude=-12.9711&longitude=-38.5108&start_date=2019-01-01&end_date=2023-12-31&models=CMCC_CM2_VHR4,FGOALS_f3_H,HiRAM_SIT_HR,MRI_AGCM3_2_S,EC_Earth3P_HR,MPI_ESM1_2_XR,NICAM16_8S&timezone=America%2FSao_Paulo&daily=temperature_2m_max,temperature_2m_min,relative_humidity_2m_mean,relative_humidity_2m_max,relative_humidity_2m_min,precipitation_sum,rain_sum\"\n",
    "params = {\n",
    "\t\"latitude\": -12.9711,\n",
    "\t\"longitude\": -38.5108,\n",
    "\t\"start_date\": \"2020-01-01\",\n",
    "\t\"end_date\": \"2023-12-31\",\n",
    "\t\"models\": [\"CMCC_CM2_VHR4\", \"FGOALS_f3_H\", \"HiRAM_SIT_HR\", \"MRI_AGCM3_2_S\", \"EC_Earth3P_HR\", \"MPI_ESM1_2_XR\", \"NICAM16_8S\"],\n",
    "\t\"timezone\": \"America/Sao_Paulo\",\n",
    "\t\"daily\": [\"temperature_2m_mean\", \"temperature_2m_max\", \"temperature_2m_min\", \"wind_speed_10m_mean\", \"wind_speed_10m_max\", \"cloud_cover_mean\", \"shortwave_radiation_sum\", \"relative_humidity_2m_mean\", \"relative_humidity_2m_max\", \"relative_humidity_2m_min\", \"precipitation_sum\", \"rain_sum\"]\n",
    "}\n",
    "responses = openmeteo.weather_api(url, params=params)\n",
    "\n",
    "\n",
    "response = responses[0]\n",
    "print(f\"Coordinates {response.Latitude()}°E {response.Longitude()}°N\")\n",
    "print(f\"Elevation {response.Elevation()} m asl\")\n",
    "print(f\"Timezone {response.Timezone()} {response.TimezoneAbbreviation()}\")\n",
    "print(f\"Timezone difference to GMT+0 {response.UtcOffsetSeconds()} s\")\n",
    "\n",
    "# Process daily data. The order of variables needs to be the same as requested.\n",
    "daily = response.Daily()\n",
    "daily_temperature_2m_mean = daily.Variables(0).ValuesAsNumpy()\n",
    "daily_temperature_2m_max = daily.Variables(1).ValuesAsNumpy()\n",
    "daily_temperature_2m_min = daily.Variables(2).ValuesAsNumpy()\n",
    "daily_wind_speed_10m_mean = daily.Variables(3).ValuesAsNumpy()\n",
    "daily_wind_speed_10m_max = daily.Variables(4).ValuesAsNumpy()\n",
    "daily_cloud_cover_mean = daily.Variables(5).ValuesAsNumpy()\n",
    "daily_shortwave_radiation_sum = daily.Variables(6).ValuesAsNumpy()\n",
    "daily_relative_humidity_2m_mean = daily.Variables(7).ValuesAsNumpy()\n",
    "daily_relative_humidity_2m_max = daily.Variables(8).ValuesAsNumpy()\n",
    "daily_relative_humidity_2m_min = daily.Variables(9).ValuesAsNumpy()\n",
    "daily_precipitation_sum = daily.Variables(10).ValuesAsNumpy()\n",
    "daily_rain_sum = daily.Variables(11).ValuesAsNumpy()\n",
    "\n",
    "daily_data = {\"date\": pd.date_range(\n",
    "\tstart = pd.to_datetime(daily.Time(), unit = \"s\"),\n",
    "\tend = pd.to_datetime(daily.TimeEnd(), unit = \"s\"),\n",
    "\tfreq = pd.Timedelta(seconds = daily.Interval()),\n",
    "\tinclusive = \"left\"\n",
    ")}\n",
    "daily_data[\"temperature_2m_mean\"] = daily_temperature_2m_mean\n",
    "daily_data[\"temperature_2m_max\"] = daily_temperature_2m_max\n",
    "daily_data[\"temperature_2m_min\"] = daily_temperature_2m_min\n",
    "daily_data[\"wind_speed_10m_mean\"] = daily_wind_speed_10m_mean\n",
    "daily_data[\"wind_speed_10m_max\"] = daily_wind_speed_10m_max\n",
    "daily_data[\"cloud_cover_mean\"] = daily_cloud_cover_mean\n",
    "daily_data[\"shortwave_radiation_sum\"] = daily_shortwave_radiation_sum\n",
    "daily_data[\"relative_humidity_2m_mean\"] = daily_relative_humidity_2m_mean\n",
    "daily_data[\"relative_humidity_2m_max\"] = daily_relative_humidity_2m_max\n",
    "daily_data[\"relative_humidity_2m_min\"] = daily_relative_humidity_2m_min\n",
    "daily_data[\"precipitation_sum\"] = daily_precipitation_sum\n",
    "daily_data[\"rain_sum\"] = daily_rain_sum\n",
    "\n",
    "daily_dataframe = pd.DataFrame(data = daily_data)\n",
    "print(daily_dataframe) daily_data)\n",
    "print(daily_dataframe)\n",
    "\n",
    "\n"
   ]
  },
  {
   "cell_type": "code",
   "execution_count": null,
   "id": "d134a3e1",
   "metadata": {},
   "outputs": [],
   "source": [
    "# Caminho do arquivo CSV\n",
    "caminho_arquivo_csv = 'dataset_api.csv'\n",
    "\n",
    "# Salvando o DataFrame como um arquivo CSV\n",
    "daily_dataframe.to_csv(caminho_arquivo_csv, index=False)"
   ]
  }
 ],
 "metadata": {
  "kernelspec": {
   "display_name": "Python 3 (ipykernel)",
   "language": "python",
   "name": "python3"
  },
  "language_info": {
   "codemirror_mode": {
    "name": "ipython",
    "version": 3
   },
   "file_extension": ".py",
   "mimetype": "text/x-python",
   "name": "python",
   "nbconvert_exporter": "python",
   "pygments_lexer": "ipython3",
   "version": "3.9.18"
  }
 },
 "nbformat": 4,
 "nbformat_minor": 5
}
